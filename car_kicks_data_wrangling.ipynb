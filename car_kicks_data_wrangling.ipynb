{
 "cells": [
  {
   "cell_type": "code",
   "execution_count": 1,
   "id": "8b36f579",
   "metadata": {},
   "outputs": [],
   "source": [
    "#First of all, we need to import the libraries we need\n",
    "import pandas as pd\n",
    "import numpy as np\n",
    "import matplotlib.pyplot as plt"
   ]
  },
  {
   "cell_type": "code",
   "execution_count": 2,
   "id": "81dcf6d1",
   "metadata": {},
   "outputs": [
    {
     "data": {
      "text/html": [
       "<div>\n",
       "<style scoped>\n",
       "    .dataframe tbody tr th:only-of-type {\n",
       "        vertical-align: middle;\n",
       "    }\n",
       "\n",
       "    .dataframe tbody tr th {\n",
       "        vertical-align: top;\n",
       "    }\n",
       "\n",
       "    .dataframe thead th {\n",
       "        text-align: right;\n",
       "    }\n",
       "</style>\n",
       "<table border=\"1\" class=\"dataframe\">\n",
       "  <thead>\n",
       "    <tr style=\"text-align: right;\">\n",
       "      <th></th>\n",
       "      <th>Unnamed: 0</th>\n",
       "      <th>PurchDate</th>\n",
       "      <th>VehYear</th>\n",
       "      <th>VehicleAge</th>\n",
       "      <th>VehOdo</th>\n",
       "      <th>MMRAcquisitionAuctionAveragePrice</th>\n",
       "      <th>MMRAcquisitionAuctionCleanPrice</th>\n",
       "      <th>MMRAcquisitionRetailAveragePrice</th>\n",
       "      <th>MMRAcquisitonRetailCleanPrice</th>\n",
       "      <th>MMRCurrentAuctionAveragePrice</th>\n",
       "      <th>...</th>\n",
       "      <th>Transmission</th>\n",
       "      <th>WheelTypeID</th>\n",
       "      <th>WheelType</th>\n",
       "      <th>Nationality</th>\n",
       "      <th>Size</th>\n",
       "      <th>TopThreeAmericanName</th>\n",
       "      <th>VNZIP1</th>\n",
       "      <th>VNST</th>\n",
       "      <th>IsOnlineSale</th>\n",
       "      <th>Class</th>\n",
       "    </tr>\n",
       "  </thead>\n",
       "  <tbody>\n",
       "    <tr>\n",
       "      <th>0</th>\n",
       "      <td>0</td>\n",
       "      <td>1.289952e+09</td>\n",
       "      <td>2006.0</td>\n",
       "      <td>4</td>\n",
       "      <td>51954.0</td>\n",
       "      <td>6197.0</td>\n",
       "      <td>7062.0</td>\n",
       "      <td>9605.0</td>\n",
       "      <td>10426.0</td>\n",
       "      <td>5341.0</td>\n",
       "      <td>...</td>\n",
       "      <td>AUTO</td>\n",
       "      <td>2.0</td>\n",
       "      <td>Covers</td>\n",
       "      <td>AMERICAN</td>\n",
       "      <td>MEDIUM</td>\n",
       "      <td>CHRYSLER</td>\n",
       "      <td>32124</td>\n",
       "      <td>FL</td>\n",
       "      <td>0</td>\n",
       "      <td>0</td>\n",
       "    </tr>\n",
       "    <tr>\n",
       "      <th>1</th>\n",
       "      <td>1</td>\n",
       "      <td>1.242691e+09</td>\n",
       "      <td>2005.0</td>\n",
       "      <td>4</td>\n",
       "      <td>89127.0</td>\n",
       "      <td>3688.0</td>\n",
       "      <td>4783.0</td>\n",
       "      <td>4483.0</td>\n",
       "      <td>5666.0</td>\n",
       "      <td>3688.0</td>\n",
       "      <td>...</td>\n",
       "      <td>AUTO</td>\n",
       "      <td>2.0</td>\n",
       "      <td>Covers</td>\n",
       "      <td>AMERICAN</td>\n",
       "      <td>MEDIUM</td>\n",
       "      <td>FORD</td>\n",
       "      <td>78754</td>\n",
       "      <td>TX</td>\n",
       "      <td>0</td>\n",
       "      <td>0</td>\n",
       "    </tr>\n",
       "    <tr>\n",
       "      <th>2</th>\n",
       "      <td>2</td>\n",
       "      <td>1.248221e+09</td>\n",
       "      <td>2006.0</td>\n",
       "      <td>3</td>\n",
       "      <td>71271.0</td>\n",
       "      <td>6897.0</td>\n",
       "      <td>8449.0</td>\n",
       "      <td>7949.0</td>\n",
       "      <td>9625.0</td>\n",
       "      <td>6868.0</td>\n",
       "      <td>...</td>\n",
       "      <td>AUTO</td>\n",
       "      <td>1.0</td>\n",
       "      <td>Alloy</td>\n",
       "      <td>AMERICAN</td>\n",
       "      <td>LARGE</td>\n",
       "      <td>GM</td>\n",
       "      <td>80011</td>\n",
       "      <td>CO</td>\n",
       "      <td>0</td>\n",
       "      <td>0</td>\n",
       "    </tr>\n",
       "    <tr>\n",
       "      <th>3</th>\n",
       "      <td>3</td>\n",
       "      <td>1.285718e+09</td>\n",
       "      <td>2008.0</td>\n",
       "      <td>2</td>\n",
       "      <td>83338.0</td>\n",
       "      <td>7878.0</td>\n",
       "      <td>8925.0</td>\n",
       "      <td>11723.0</td>\n",
       "      <td>13026.0</td>\n",
       "      <td>7801.0</td>\n",
       "      <td>...</td>\n",
       "      <td>AUTO</td>\n",
       "      <td>2.0</td>\n",
       "      <td>Covers</td>\n",
       "      <td>AMERICAN</td>\n",
       "      <td>LARGE</td>\n",
       "      <td>GM</td>\n",
       "      <td>94544</td>\n",
       "      <td>CA</td>\n",
       "      <td>0</td>\n",
       "      <td>0</td>\n",
       "    </tr>\n",
       "    <tr>\n",
       "      <th>4</th>\n",
       "      <td>4</td>\n",
       "      <td>1.237334e+09</td>\n",
       "      <td>2007.0</td>\n",
       "      <td>2</td>\n",
       "      <td>58698.0</td>\n",
       "      <td>8800.0</td>\n",
       "      <td>10091.0</td>\n",
       "      <td>10004.0</td>\n",
       "      <td>11398.0</td>\n",
       "      <td>7355.0</td>\n",
       "      <td>...</td>\n",
       "      <td>AUTO</td>\n",
       "      <td>1.0</td>\n",
       "      <td>Alloy</td>\n",
       "      <td>AMERICAN</td>\n",
       "      <td>LARGE</td>\n",
       "      <td>GM</td>\n",
       "      <td>77086</td>\n",
       "      <td>TX</td>\n",
       "      <td>0</td>\n",
       "      <td>0</td>\n",
       "    </tr>\n",
       "  </tbody>\n",
       "</table>\n",
       "<p>5 rows × 30 columns</p>\n",
       "</div>"
      ],
      "text/plain": [
       "   Unnamed: 0     PurchDate  VehYear  VehicleAge   VehOdo  \\\n",
       "0           0  1.289952e+09   2006.0           4  51954.0   \n",
       "1           1  1.242691e+09   2005.0           4  89127.0   \n",
       "2           2  1.248221e+09   2006.0           3  71271.0   \n",
       "3           3  1.285718e+09   2008.0           2  83338.0   \n",
       "4           4  1.237334e+09   2007.0           2  58698.0   \n",
       "\n",
       "   MMRAcquisitionAuctionAveragePrice  MMRAcquisitionAuctionCleanPrice  \\\n",
       "0                             6197.0                           7062.0   \n",
       "1                             3688.0                           4783.0   \n",
       "2                             6897.0                           8449.0   \n",
       "3                             7878.0                           8925.0   \n",
       "4                             8800.0                          10091.0   \n",
       "\n",
       "   MMRAcquisitionRetailAveragePrice  MMRAcquisitonRetailCleanPrice  \\\n",
       "0                            9605.0                        10426.0   \n",
       "1                            4483.0                         5666.0   \n",
       "2                            7949.0                         9625.0   \n",
       "3                           11723.0                        13026.0   \n",
       "4                           10004.0                        11398.0   \n",
       "\n",
       "   MMRCurrentAuctionAveragePrice  ...  Transmission  WheelTypeID  WheelType  \\\n",
       "0                         5341.0  ...          AUTO          2.0     Covers   \n",
       "1                         3688.0  ...          AUTO          2.0     Covers   \n",
       "2                         6868.0  ...          AUTO          1.0      Alloy   \n",
       "3                         7801.0  ...          AUTO          2.0     Covers   \n",
       "4                         7355.0  ...          AUTO          1.0      Alloy   \n",
       "\n",
       "   Nationality    Size TopThreeAmericanName VNZIP1 VNST IsOnlineSale Class  \n",
       "0     AMERICAN  MEDIUM             CHRYSLER  32124   FL            0     0  \n",
       "1     AMERICAN  MEDIUM                 FORD  78754   TX            0     0  \n",
       "2     AMERICAN   LARGE                   GM  80011   CO            0     0  \n",
       "3     AMERICAN   LARGE                   GM  94544   CA            0     0  \n",
       "4     AMERICAN   LARGE                   GM  77086   TX            0     0  \n",
       "\n",
       "[5 rows x 30 columns]"
      ]
     },
     "execution_count": 2,
     "metadata": {},
     "output_type": "execute_result"
    }
   ],
   "source": [
    "#Uploading the dataset and printing first few rows\n",
    "car_kick=pd.read_csv('car_kicks.csv')\n",
    "car_kick.head()"
   ]
  },
  {
   "cell_type": "code",
   "execution_count": 3,
   "id": "1db30758",
   "metadata": {},
   "outputs": [],
   "source": [
    "#As we can see we have a duplicate index column, which we can drop before moving forward\n",
    "car_kick.drop(columns=['Unnamed: 0'], inplace=True)"
   ]
  },
  {
   "cell_type": "code",
   "execution_count": 4,
   "id": "b77cadc5",
   "metadata": {},
   "outputs": [
    {
     "name": "stdout",
     "output_type": "stream",
     "text": [
      "<class 'pandas.core.frame.DataFrame'>\n",
      "RangeIndex: 67211 entries, 0 to 67210\n",
      "Data columns (total 29 columns):\n",
      " #   Column                             Non-Null Count  Dtype  \n",
      "---  ------                             --------------  -----  \n",
      " 0   PurchDate                          67211 non-null  float64\n",
      " 1   VehYear                            67211 non-null  float64\n",
      " 2   VehicleAge                         67211 non-null  int64  \n",
      " 3   VehOdo                             67211 non-null  float64\n",
      " 4   MMRAcquisitionAuctionAveragePrice  67211 non-null  float64\n",
      " 5   MMRAcquisitionAuctionCleanPrice    67211 non-null  float64\n",
      " 6   MMRAcquisitionRetailAveragePrice   67211 non-null  float64\n",
      " 7   MMRAcquisitonRetailCleanPrice      67211 non-null  float64\n",
      " 8   MMRCurrentAuctionAveragePrice      67211 non-null  float64\n",
      " 9   MMRCurrentAuctionCleanPrice        67211 non-null  float64\n",
      " 10  MMRCurrentRetailAveragePrice       67211 non-null  float64\n",
      " 11  MMRCurrentRetailCleanPrice         67211 non-null  float64\n",
      " 12  WarrantyCost                       67211 non-null  float64\n",
      " 13  Auction                            67211 non-null  object \n",
      " 14  Make                               67211 non-null  object \n",
      " 15  Model                              67211 non-null  object \n",
      " 16  Trim                               67211 non-null  object \n",
      " 17  SubModel                           67211 non-null  object \n",
      " 18  Color                              67211 non-null  object \n",
      " 19  Transmission                       67211 non-null  object \n",
      " 20  WheelTypeID                        67211 non-null  float64\n",
      " 21  WheelType                          67211 non-null  object \n",
      " 22  Nationality                        67211 non-null  object \n",
      " 23  Size                               67211 non-null  object \n",
      " 24  TopThreeAmericanName               67211 non-null  object \n",
      " 25  VNZIP1                             67211 non-null  int64  \n",
      " 26  VNST                               67211 non-null  object \n",
      " 27  IsOnlineSale                       67211 non-null  int64  \n",
      " 28  Class                              67211 non-null  int64  \n",
      "dtypes: float64(13), int64(4), object(12)\n",
      "memory usage: 14.9+ MB\n"
     ]
    }
   ],
   "source": [
    "#Now we can call .info() method to get more information about our columns\n",
    "car_kick.info()"
   ]
  },
  {
   "cell_type": "markdown",
   "id": "67635fc9",
   "metadata": {},
   "source": [
    "So we have 29 columns, 8 of which represent the price of the car. We also don't have any missing values.4 of the price columns represent the price of the car when it was bought from the auction, the other 4 - the price of the car when the data was collected. Each of those groups include average and clean prices in both auction and retail.Now we'll check the data types and look for outliers in our dataset."
   ]
  },
  {
   "cell_type": "code",
   "execution_count": 5,
   "id": "6fcb5885",
   "metadata": {
    "scrolled": true
   },
   "outputs": [
    {
     "data": {
      "text/html": [
       "<div>\n",
       "<style scoped>\n",
       "    .dataframe tbody tr th:only-of-type {\n",
       "        vertical-align: middle;\n",
       "    }\n",
       "\n",
       "    .dataframe tbody tr th {\n",
       "        vertical-align: top;\n",
       "    }\n",
       "\n",
       "    .dataframe thead th {\n",
       "        text-align: right;\n",
       "    }\n",
       "</style>\n",
       "<table border=\"1\" class=\"dataframe\">\n",
       "  <thead>\n",
       "    <tr style=\"text-align: right;\">\n",
       "      <th></th>\n",
       "      <th>PurchDate</th>\n",
       "      <th>VehYear</th>\n",
       "      <th>VehicleAge</th>\n",
       "      <th>VehOdo</th>\n",
       "      <th>MMRAcquisitionAuctionAveragePrice</th>\n",
       "      <th>MMRAcquisitionAuctionCleanPrice</th>\n",
       "      <th>MMRAcquisitionRetailAveragePrice</th>\n",
       "      <th>MMRAcquisitonRetailCleanPrice</th>\n",
       "      <th>MMRCurrentAuctionAveragePrice</th>\n",
       "      <th>MMRCurrentAuctionCleanPrice</th>\n",
       "      <th>MMRCurrentRetailAveragePrice</th>\n",
       "      <th>MMRCurrentRetailCleanPrice</th>\n",
       "      <th>WarrantyCost</th>\n",
       "      <th>WheelTypeID</th>\n",
       "      <th>VNZIP1</th>\n",
       "      <th>IsOnlineSale</th>\n",
       "      <th>Class</th>\n",
       "    </tr>\n",
       "  </thead>\n",
       "  <tbody>\n",
       "    <tr>\n",
       "      <th>count</th>\n",
       "      <td>6.721100e+04</td>\n",
       "      <td>67211.000000</td>\n",
       "      <td>67211.000000</td>\n",
       "      <td>67211.000000</td>\n",
       "      <td>67211.000000</td>\n",
       "      <td>67211.000000</td>\n",
       "      <td>67211.000000</td>\n",
       "      <td>67211.000000</td>\n",
       "      <td>67211.000000</td>\n",
       "      <td>67211.000000</td>\n",
       "      <td>67211.000000</td>\n",
       "      <td>67211.000000</td>\n",
       "      <td>67211.000000</td>\n",
       "      <td>67211.000000</td>\n",
       "      <td>67211.000000</td>\n",
       "      <td>67211.000000</td>\n",
       "      <td>67211.000000</td>\n",
       "    </tr>\n",
       "    <tr>\n",
       "      <th>mean</th>\n",
       "      <td>1.263166e+09</td>\n",
       "      <td>2005.352606</td>\n",
       "      <td>4.168588</td>\n",
       "      <td>71734.558971</td>\n",
       "      <td>6162.054589</td>\n",
       "      <td>7411.975123</td>\n",
       "      <td>8538.503787</td>\n",
       "      <td>9895.922423</td>\n",
       "      <td>6166.708827</td>\n",
       "      <td>7429.722307</td>\n",
       "      <td>8817.942123</td>\n",
       "      <td>10189.606300</td>\n",
       "      <td>1278.942301</td>\n",
       "      <td>1.493386</td>\n",
       "      <td>58272.452768</td>\n",
       "      <td>0.025055</td>\n",
       "      <td>0.095461</td>\n",
       "    </tr>\n",
       "    <tr>\n",
       "      <th>std</th>\n",
       "      <td>1.820779e+07</td>\n",
       "      <td>1.727873</td>\n",
       "      <td>1.707501</td>\n",
       "      <td>14387.245482</td>\n",
       "      <td>2452.884994</td>\n",
       "      <td>2714.884242</td>\n",
       "      <td>3154.090485</td>\n",
       "      <td>3384.033541</td>\n",
       "      <td>2426.946652</td>\n",
       "      <td>2678.289955</td>\n",
       "      <td>3086.591314</td>\n",
       "      <td>3305.531489</td>\n",
       "      <td>579.077788</td>\n",
       "      <td>0.521232</td>\n",
       "      <td>26117.388216</td>\n",
       "      <td>0.156295</td>\n",
       "      <td>0.293852</td>\n",
       "    </tr>\n",
       "    <tr>\n",
       "      <th>min</th>\n",
       "      <td>1.231114e+09</td>\n",
       "      <td>2001.000000</td>\n",
       "      <td>0.000000</td>\n",
       "      <td>5368.000000</td>\n",
       "      <td>0.000000</td>\n",
       "      <td>0.000000</td>\n",
       "      <td>0.000000</td>\n",
       "      <td>0.000000</td>\n",
       "      <td>0.000000</td>\n",
       "      <td>0.000000</td>\n",
       "      <td>0.000000</td>\n",
       "      <td>0.000000</td>\n",
       "      <td>462.000000</td>\n",
       "      <td>1.000000</td>\n",
       "      <td>2764.000000</td>\n",
       "      <td>0.000000</td>\n",
       "      <td>0.000000</td>\n",
       "    </tr>\n",
       "    <tr>\n",
       "      <th>25%</th>\n",
       "      <td>1.247789e+09</td>\n",
       "      <td>2004.000000</td>\n",
       "      <td>3.000000</td>\n",
       "      <td>62163.000000</td>\n",
       "      <td>4311.000000</td>\n",
       "      <td>5456.500000</td>\n",
       "      <td>6319.000000</td>\n",
       "      <td>7525.500000</td>\n",
       "      <td>4311.000000</td>\n",
       "      <td>5468.000000</td>\n",
       "      <td>6565.000000</td>\n",
       "      <td>7822.000000</td>\n",
       "      <td>853.000000</td>\n",
       "      <td>1.000000</td>\n",
       "      <td>32124.000000</td>\n",
       "      <td>0.000000</td>\n",
       "      <td>0.000000</td>\n",
       "    </tr>\n",
       "    <tr>\n",
       "      <th>50%</th>\n",
       "      <td>1.264032e+09</td>\n",
       "      <td>2005.000000</td>\n",
       "      <td>4.000000</td>\n",
       "      <td>73530.000000</td>\n",
       "      <td>6163.000000</td>\n",
       "      <td>7380.000000</td>\n",
       "      <td>8498.000000</td>\n",
       "      <td>9868.000000</td>\n",
       "      <td>6130.000000</td>\n",
       "      <td>7390.000000</td>\n",
       "      <td>8811.000000</td>\n",
       "      <td>10175.000000</td>\n",
       "      <td>1169.000000</td>\n",
       "      <td>1.000000</td>\n",
       "      <td>74135.000000</td>\n",
       "      <td>0.000000</td>\n",
       "      <td>0.000000</td>\n",
       "    </tr>\n",
       "    <tr>\n",
       "      <th>75%</th>\n",
       "      <td>1.279152e+09</td>\n",
       "      <td>2007.000000</td>\n",
       "      <td>5.000000</td>\n",
       "      <td>82530.000000</td>\n",
       "      <td>7806.000000</td>\n",
       "      <td>9049.000000</td>\n",
       "      <td>10709.500000</td>\n",
       "      <td>12153.500000</td>\n",
       "      <td>7776.000000</td>\n",
       "      <td>9045.000000</td>\n",
       "      <td>10972.000000</td>\n",
       "      <td>12370.000000</td>\n",
       "      <td>1623.000000</td>\n",
       "      <td>2.000000</td>\n",
       "      <td>80022.000000</td>\n",
       "      <td>0.000000</td>\n",
       "      <td>0.000000</td>\n",
       "    </tr>\n",
       "    <tr>\n",
       "      <th>max</th>\n",
       "      <td>1.293667e+09</td>\n",
       "      <td>2010.000000</td>\n",
       "      <td>9.000000</td>\n",
       "      <td>115717.000000</td>\n",
       "      <td>35722.000000</td>\n",
       "      <td>36859.000000</td>\n",
       "      <td>39080.000000</td>\n",
       "      <td>40308.000000</td>\n",
       "      <td>35722.000000</td>\n",
       "      <td>36859.000000</td>\n",
       "      <td>39080.000000</td>\n",
       "      <td>40308.000000</td>\n",
       "      <td>7498.000000</td>\n",
       "      <td>3.000000</td>\n",
       "      <td>99224.000000</td>\n",
       "      <td>1.000000</td>\n",
       "      <td>1.000000</td>\n",
       "    </tr>\n",
       "  </tbody>\n",
       "</table>\n",
       "</div>"
      ],
      "text/plain": [
       "          PurchDate       VehYear    VehicleAge         VehOdo  \\\n",
       "count  6.721100e+04  67211.000000  67211.000000   67211.000000   \n",
       "mean   1.263166e+09   2005.352606      4.168588   71734.558971   \n",
       "std    1.820779e+07      1.727873      1.707501   14387.245482   \n",
       "min    1.231114e+09   2001.000000      0.000000    5368.000000   \n",
       "25%    1.247789e+09   2004.000000      3.000000   62163.000000   \n",
       "50%    1.264032e+09   2005.000000      4.000000   73530.000000   \n",
       "75%    1.279152e+09   2007.000000      5.000000   82530.000000   \n",
       "max    1.293667e+09   2010.000000      9.000000  115717.000000   \n",
       "\n",
       "       MMRAcquisitionAuctionAveragePrice  MMRAcquisitionAuctionCleanPrice  \\\n",
       "count                       67211.000000                     67211.000000   \n",
       "mean                         6162.054589                      7411.975123   \n",
       "std                          2452.884994                      2714.884242   \n",
       "min                             0.000000                         0.000000   \n",
       "25%                          4311.000000                      5456.500000   \n",
       "50%                          6163.000000                      7380.000000   \n",
       "75%                          7806.000000                      9049.000000   \n",
       "max                         35722.000000                     36859.000000   \n",
       "\n",
       "       MMRAcquisitionRetailAveragePrice  MMRAcquisitonRetailCleanPrice  \\\n",
       "count                      67211.000000                   67211.000000   \n",
       "mean                        8538.503787                    9895.922423   \n",
       "std                         3154.090485                    3384.033541   \n",
       "min                            0.000000                       0.000000   \n",
       "25%                         6319.000000                    7525.500000   \n",
       "50%                         8498.000000                    9868.000000   \n",
       "75%                        10709.500000                   12153.500000   \n",
       "max                        39080.000000                   40308.000000   \n",
       "\n",
       "       MMRCurrentAuctionAveragePrice  MMRCurrentAuctionCleanPrice  \\\n",
       "count                   67211.000000                 67211.000000   \n",
       "mean                     6166.708827                  7429.722307   \n",
       "std                      2426.946652                  2678.289955   \n",
       "min                         0.000000                     0.000000   \n",
       "25%                      4311.000000                  5468.000000   \n",
       "50%                      6130.000000                  7390.000000   \n",
       "75%                      7776.000000                  9045.000000   \n",
       "max                     35722.000000                 36859.000000   \n",
       "\n",
       "       MMRCurrentRetailAveragePrice  MMRCurrentRetailCleanPrice  WarrantyCost  \\\n",
       "count                  67211.000000                67211.000000  67211.000000   \n",
       "mean                    8817.942123                10189.606300   1278.942301   \n",
       "std                     3086.591314                 3305.531489    579.077788   \n",
       "min                        0.000000                    0.000000    462.000000   \n",
       "25%                     6565.000000                 7822.000000    853.000000   \n",
       "50%                     8811.000000                10175.000000   1169.000000   \n",
       "75%                    10972.000000                12370.000000   1623.000000   \n",
       "max                    39080.000000                40308.000000   7498.000000   \n",
       "\n",
       "        WheelTypeID        VNZIP1  IsOnlineSale         Class  \n",
       "count  67211.000000  67211.000000  67211.000000  67211.000000  \n",
       "mean       1.493386  58272.452768      0.025055      0.095461  \n",
       "std        0.521232  26117.388216      0.156295      0.293852  \n",
       "min        1.000000   2764.000000      0.000000      0.000000  \n",
       "25%        1.000000  32124.000000      0.000000      0.000000  \n",
       "50%        1.000000  74135.000000      0.000000      0.000000  \n",
       "75%        2.000000  80022.000000      0.000000      0.000000  \n",
       "max        3.000000  99224.000000      1.000000      1.000000  "
      ]
     },
     "execution_count": 5,
     "metadata": {},
     "output_type": "execute_result"
    }
   ],
   "source": [
    "car_kick.describe()"
   ]
  },
  {
   "cell_type": "markdown",
   "id": "0318f650",
   "metadata": {},
   "source": [
    "The PurchDate column has numeric date time and unusual values for a date. The other numeric columns seems to not have outliers but we have some 0 values in our price columns which could be considered as missing values."
   ]
  },
  {
   "cell_type": "code",
   "execution_count": 6,
   "id": "22237254",
   "metadata": {},
   "outputs": [
    {
     "data": {
      "text/plain": [
       "4735"
      ]
     },
     "execution_count": 6,
     "metadata": {},
     "output_type": "execute_result"
    }
   ],
   "source": [
    "price_cols=['MMRAcquisitionAuctionAveragePrice', 'MMRAcquisitionAuctionCleanPrice', 'MMRAcquisitionRetailAveragePrice', 'MMRAcquisitonRetailCleanPrice', 'MMRCurrentAuctionAveragePrice', 'MMRCurrentAuctionCleanPrice', 'MMRCurrentRetailAveragePrice', 'MMRCurrentRetailCleanPrice']\n",
    "price_0=pd.DataFrame()\n",
    "for col in price_cols:\n",
    "    df=car_kick[car_kick[col]==0]\n",
    "    price_0=pd.concat([price_0, df])\n",
    "price_0.shape[0]"
   ]
  },
  {
   "cell_type": "code",
   "execution_count": 7,
   "id": "f6e18ab2",
   "metadata": {},
   "outputs": [
    {
     "data": {
      "image/png": "[encoded data removed]",
      "text/plain": [
       "<Figure size 1080x720 with 9 Axes>"
      ]
     },
     "metadata": {
      "needs_background": "light"
     },
     "output_type": "display_data"
    }
   ],
   "source": [
    "price_0[price_cols].hist(figsize=(15, 10))\n",
    "plt.subplots_adjust(hspace=0.5);"
   ]
  },
  {
   "cell_type": "markdown",
   "id": "9736b2ff",
   "metadata": {},
   "source": [
    "So, we have 4735 rows in our dataset that have 0 values in any of price columns, but how many of them have 0 value in all price columns.\n"
   ]
  },
  {
   "cell_type": "code",
   "execution_count": 8,
   "id": "62375aef",
   "metadata": {},
   "outputs": [
    {
     "data": {
      "text/plain": [
       "2536"
      ]
     },
     "execution_count": 8,
     "metadata": {},
     "output_type": "execute_result"
    }
   ],
   "source": [
    "all_0=price_0[(price_0[price_cols]==0).all(axis=1)]\n",
    "all_0.shape[0]"
   ]
  },
  {
   "cell_type": "markdown",
   "id": "86b33eda",
   "metadata": {},
   "source": [
    "2536 of our rows have 0 value in all of the price columns which makes hard to use them for our future model but we can keep them for now as the information in other columns might be useful for our analysis.\n"
   ]
  },
  {
   "cell_type": "code",
   "execution_count": 9,
   "id": "bc24801c",
   "metadata": {},
   "outputs": [
    {
     "data": {
      "text/html": [
       "<div>\n",
       "<style scoped>\n",
       "    .dataframe tbody tr th:only-of-type {\n",
       "        vertical-align: middle;\n",
       "    }\n",
       "\n",
       "    .dataframe tbody tr th {\n",
       "        vertical-align: top;\n",
       "    }\n",
       "\n",
       "    .dataframe thead th {\n",
       "        text-align: right;\n",
       "    }\n",
       "</style>\n",
       "<table border=\"1\" class=\"dataframe\">\n",
       "  <thead>\n",
       "    <tr style=\"text-align: right;\">\n",
       "      <th></th>\n",
       "      <th>PurchDate</th>\n",
       "      <th>VehYear</th>\n",
       "      <th>VehicleAge</th>\n",
       "      <th>VehOdo</th>\n",
       "      <th>MMRAcquisitionAuctionAveragePrice</th>\n",
       "      <th>MMRAcquisitionAuctionCleanPrice</th>\n",
       "      <th>MMRAcquisitionRetailAveragePrice</th>\n",
       "      <th>MMRAcquisitonRetailCleanPrice</th>\n",
       "      <th>MMRCurrentAuctionAveragePrice</th>\n",
       "      <th>MMRCurrentAuctionCleanPrice</th>\n",
       "      <th>MMRCurrentRetailAveragePrice</th>\n",
       "      <th>MMRCurrentRetailCleanPrice</th>\n",
       "      <th>WarrantyCost</th>\n",
       "      <th>WheelTypeID</th>\n",
       "      <th>VNZIP1</th>\n",
       "      <th>IsOnlineSale</th>\n",
       "      <th>Class</th>\n",
       "    </tr>\n",
       "  </thead>\n",
       "  <tbody>\n",
       "    <tr>\n",
       "      <th>count</th>\n",
       "      <td>2.536000e+03</td>\n",
       "      <td>2536.000000</td>\n",
       "      <td>2536.000000</td>\n",
       "      <td>2536.000000</td>\n",
       "      <td>2536.0</td>\n",
       "      <td>2536.0</td>\n",
       "      <td>2536.0</td>\n",
       "      <td>2536.0</td>\n",
       "      <td>2536.0</td>\n",
       "      <td>2536.0</td>\n",
       "      <td>2536.0</td>\n",
       "      <td>2536.0</td>\n",
       "      <td>2536.000000</td>\n",
       "      <td>2536.000000</td>\n",
       "      <td>2536.000000</td>\n",
       "      <td>2536.0</td>\n",
       "      <td>2536.000000</td>\n",
       "    </tr>\n",
       "    <tr>\n",
       "      <th>mean</th>\n",
       "      <td>1.252629e+09</td>\n",
       "      <td>2005.287066</td>\n",
       "      <td>3.842271</td>\n",
       "      <td>72496.154574</td>\n",
       "      <td>0.0</td>\n",
       "      <td>0.0</td>\n",
       "      <td>0.0</td>\n",
       "      <td>0.0</td>\n",
       "      <td>0.0</td>\n",
       "      <td>0.0</td>\n",
       "      <td>0.0</td>\n",
       "      <td>0.0</td>\n",
       "      <td>1418.615142</td>\n",
       "      <td>1.501577</td>\n",
       "      <td>58051.555205</td>\n",
       "      <td>0.0</td>\n",
       "      <td>0.091483</td>\n",
       "    </tr>\n",
       "    <tr>\n",
       "      <th>std</th>\n",
       "      <td>1.152324e+07</td>\n",
       "      <td>1.478714</td>\n",
       "      <td>1.596953</td>\n",
       "      <td>13896.928586</td>\n",
       "      <td>0.0</td>\n",
       "      <td>0.0</td>\n",
       "      <td>0.0</td>\n",
       "      <td>0.0</td>\n",
       "      <td>0.0</td>\n",
       "      <td>0.0</td>\n",
       "      <td>0.0</td>\n",
       "      <td>0.0</td>\n",
       "      <td>729.639221</td>\n",
       "      <td>0.518682</td>\n",
       "      <td>26300.379590</td>\n",
       "      <td>0.0</td>\n",
       "      <td>0.288351</td>\n",
       "    </tr>\n",
       "    <tr>\n",
       "      <th>min</th>\n",
       "      <td>1.236902e+09</td>\n",
       "      <td>2001.000000</td>\n",
       "      <td>1.000000</td>\n",
       "      <td>14961.000000</td>\n",
       "      <td>0.0</td>\n",
       "      <td>0.0</td>\n",
       "      <td>0.0</td>\n",
       "      <td>0.0</td>\n",
       "      <td>0.0</td>\n",
       "      <td>0.0</td>\n",
       "      <td>0.0</td>\n",
       "      <td>0.0</td>\n",
       "      <td>505.000000</td>\n",
       "      <td>1.000000</td>\n",
       "      <td>17545.000000</td>\n",
       "      <td>0.0</td>\n",
       "      <td>0.000000</td>\n",
       "    </tr>\n",
       "    <tr>\n",
       "      <th>25%</th>\n",
       "      <td>1.245370e+09</td>\n",
       "      <td>2005.000000</td>\n",
       "      <td>3.000000</td>\n",
       "      <td>64062.000000</td>\n",
       "      <td>0.0</td>\n",
       "      <td>0.0</td>\n",
       "      <td>0.0</td>\n",
       "      <td>0.0</td>\n",
       "      <td>0.0</td>\n",
       "      <td>0.0</td>\n",
       "      <td>0.0</td>\n",
       "      <td>0.0</td>\n",
       "      <td>805.000000</td>\n",
       "      <td>1.000000</td>\n",
       "      <td>30212.000000</td>\n",
       "      <td>0.0</td>\n",
       "      <td>0.000000</td>\n",
       "    </tr>\n",
       "    <tr>\n",
       "      <th>50%</th>\n",
       "      <td>1.250640e+09</td>\n",
       "      <td>2005.000000</td>\n",
       "      <td>4.000000</td>\n",
       "      <td>74824.000000</td>\n",
       "      <td>0.0</td>\n",
       "      <td>0.0</td>\n",
       "      <td>0.0</td>\n",
       "      <td>0.0</td>\n",
       "      <td>0.0</td>\n",
       "      <td>0.0</td>\n",
       "      <td>0.0</td>\n",
       "      <td>0.0</td>\n",
       "      <td>1272.000000</td>\n",
       "      <td>1.000000</td>\n",
       "      <td>75020.000000</td>\n",
       "      <td>0.0</td>\n",
       "      <td>0.000000</td>\n",
       "    </tr>\n",
       "    <tr>\n",
       "      <th>75%</th>\n",
       "      <td>1.254874e+09</td>\n",
       "      <td>2006.000000</td>\n",
       "      <td>5.000000</td>\n",
       "      <td>83179.000000</td>\n",
       "      <td>0.0</td>\n",
       "      <td>0.0</td>\n",
       "      <td>0.0</td>\n",
       "      <td>0.0</td>\n",
       "      <td>0.0</td>\n",
       "      <td>0.0</td>\n",
       "      <td>0.0</td>\n",
       "      <td>0.0</td>\n",
       "      <td>1801.000000</td>\n",
       "      <td>2.000000</td>\n",
       "      <td>80229.000000</td>\n",
       "      <td>0.0</td>\n",
       "      <td>0.000000</td>\n",
       "    </tr>\n",
       "    <tr>\n",
       "      <th>max</th>\n",
       "      <td>1.292458e+09</td>\n",
       "      <td>2008.000000</td>\n",
       "      <td>9.000000</td>\n",
       "      <td>98567.000000</td>\n",
       "      <td>0.0</td>\n",
       "      <td>0.0</td>\n",
       "      <td>0.0</td>\n",
       "      <td>0.0</td>\n",
       "      <td>0.0</td>\n",
       "      <td>0.0</td>\n",
       "      <td>0.0</td>\n",
       "      <td>0.0</td>\n",
       "      <td>5092.000000</td>\n",
       "      <td>3.000000</td>\n",
       "      <td>98064.000000</td>\n",
       "      <td>0.0</td>\n",
       "      <td>1.000000</td>\n",
       "    </tr>\n",
       "  </tbody>\n",
       "</table>\n",
       "</div>"
      ],
      "text/plain": [
       "          PurchDate      VehYear   VehicleAge        VehOdo  \\\n",
       "count  2.536000e+03  2536.000000  2536.000000   2536.000000   \n",
       "mean   1.252629e+09  2005.287066     3.842271  72496.154574   \n",
       "std    1.152324e+07     1.478714     1.596953  13896.928586   \n",
       "min    1.236902e+09  2001.000000     1.000000  14961.000000   \n",
       "25%    1.245370e+09  2005.000000     3.000000  64062.000000   \n",
       "50%    1.250640e+09  2005.000000     4.000000  74824.000000   \n",
       "75%    1.254874e+09  2006.000000     5.000000  83179.000000   \n",
       "max    1.292458e+09  2008.000000     9.000000  98567.000000   \n",
       "\n",
       "       MMRAcquisitionAuctionAveragePrice  MMRAcquisitionAuctionCleanPrice  \\\n",
       "count                             2536.0                           2536.0   \n",
       "mean                                 0.0                              0.0   \n",
       "std                                  0.0                              0.0   \n",
       "min                                  0.0                              0.0   \n",
       "25%                                  0.0                              0.0   \n",
       "50%                                  0.0                              0.0   \n",
       "75%                                  0.0                              0.0   \n",
       "max                                  0.0                              0.0   \n",
       "\n",
       "       MMRAcquisitionRetailAveragePrice  MMRAcquisitonRetailCleanPrice  \\\n",
       "count                            2536.0                         2536.0   \n",
       "mean                                0.0                            0.0   \n",
       "std                                 0.0                            0.0   \n",
       "min                                 0.0                            0.0   \n",
       "25%                                 0.0                            0.0   \n",
       "50%                                 0.0                            0.0   \n",
       "75%                                 0.0                            0.0   \n",
       "max                                 0.0                            0.0   \n",
       "\n",
       "       MMRCurrentAuctionAveragePrice  MMRCurrentAuctionCleanPrice  \\\n",
       "count                         2536.0                       2536.0   \n",
       "mean                             0.0                          0.0   \n",
       "std                              0.0                          0.0   \n",
       "min                              0.0                          0.0   \n",
       "25%                              0.0                          0.0   \n",
       "50%                              0.0                          0.0   \n",
       "75%                              0.0                          0.0   \n",
       "max                              0.0                          0.0   \n",
       "\n",
       "       MMRCurrentRetailAveragePrice  MMRCurrentRetailCleanPrice  WarrantyCost  \\\n",
       "count                        2536.0                      2536.0   2536.000000   \n",
       "mean                            0.0                         0.0   1418.615142   \n",
       "std                             0.0                         0.0    729.639221   \n",
       "min                             0.0                         0.0    505.000000   \n",
       "25%                             0.0                         0.0    805.000000   \n",
       "50%                             0.0                         0.0   1272.000000   \n",
       "75%                             0.0                         0.0   1801.000000   \n",
       "max                             0.0                         0.0   5092.000000   \n",
       "\n",
       "       WheelTypeID        VNZIP1  IsOnlineSale        Class  \n",
       "count  2536.000000   2536.000000        2536.0  2536.000000  \n",
       "mean      1.501577  58051.555205           0.0     0.091483  \n",
       "std       0.518682  26300.379590           0.0     0.288351  \n",
       "min       1.000000  17545.000000           0.0     0.000000  \n",
       "25%       1.000000  30212.000000           0.0     0.000000  \n",
       "50%       1.000000  75020.000000           0.0     0.000000  \n",
       "75%       2.000000  80229.000000           0.0     0.000000  \n",
       "max       3.000000  98064.000000           0.0     1.000000  "
      ]
     },
     "execution_count": 9,
     "metadata": {},
     "output_type": "execute_result"
    }
   ],
   "source": [
    "all_0.describe()"
   ]
  },
  {
   "cell_type": "markdown",
   "id": "dda027de",
   "metadata": {},
   "source": [
    "Regarding our numeric columns we can also change the data type for 'VehYear', 'VehOdo' 'WheelTypeID', 'VNZIP1' from float to int.\n"
   ]
  },
  {
   "cell_type": "code",
   "execution_count": 10,
   "id": "3bd720dc",
   "metadata": {},
   "outputs": [
    {
     "data": {
      "text/html": [
       "<div>\n",
       "<style scoped>\n",
       "    .dataframe tbody tr th:only-of-type {\n",
       "        vertical-align: middle;\n",
       "    }\n",
       "\n",
       "    .dataframe tbody tr th {\n",
       "        vertical-align: top;\n",
       "    }\n",
       "\n",
       "    .dataframe thead th {\n",
       "        text-align: right;\n",
       "    }\n",
       "</style>\n",
       "<table border=\"1\" class=\"dataframe\">\n",
       "  <thead>\n",
       "    <tr style=\"text-align: right;\">\n",
       "      <th></th>\n",
       "      <th>VehYear</th>\n",
       "      <th>VehOdo</th>\n",
       "      <th>WheelTypeID</th>\n",
       "      <th>VNZIP1</th>\n",
       "    </tr>\n",
       "  </thead>\n",
       "  <tbody>\n",
       "    <tr>\n",
       "      <th>0</th>\n",
       "      <td>2006</td>\n",
       "      <td>51954</td>\n",
       "      <td>2</td>\n",
       "      <td>32124</td>\n",
       "    </tr>\n",
       "    <tr>\n",
       "      <th>1</th>\n",
       "      <td>2005</td>\n",
       "      <td>89127</td>\n",
       "      <td>2</td>\n",
       "      <td>78754</td>\n",
       "    </tr>\n",
       "    <tr>\n",
       "      <th>2</th>\n",
       "      <td>2006</td>\n",
       "      <td>71271</td>\n",
       "      <td>1</td>\n",
       "      <td>80011</td>\n",
       "    </tr>\n",
       "    <tr>\n",
       "      <th>3</th>\n",
       "      <td>2008</td>\n",
       "      <td>83338</td>\n",
       "      <td>2</td>\n",
       "      <td>94544</td>\n",
       "    </tr>\n",
       "    <tr>\n",
       "      <th>4</th>\n",
       "      <td>2007</td>\n",
       "      <td>58698</td>\n",
       "      <td>1</td>\n",
       "      <td>77086</td>\n",
       "    </tr>\n",
       "    <tr>\n",
       "      <th>...</th>\n",
       "      <td>...</td>\n",
       "      <td>...</td>\n",
       "      <td>...</td>\n",
       "      <td>...</td>\n",
       "    </tr>\n",
       "    <tr>\n",
       "      <th>67206</th>\n",
       "      <td>2008</td>\n",
       "      <td>56072</td>\n",
       "      <td>2</td>\n",
       "      <td>77061</td>\n",
       "    </tr>\n",
       "    <tr>\n",
       "      <th>67207</th>\n",
       "      <td>2004</td>\n",
       "      <td>94232</td>\n",
       "      <td>1</td>\n",
       "      <td>28273</td>\n",
       "    </tr>\n",
       "    <tr>\n",
       "      <th>67208</th>\n",
       "      <td>2004</td>\n",
       "      <td>79534</td>\n",
       "      <td>1</td>\n",
       "      <td>37771</td>\n",
       "    </tr>\n",
       "    <tr>\n",
       "      <th>67209</th>\n",
       "      <td>2003</td>\n",
       "      <td>79394</td>\n",
       "      <td>2</td>\n",
       "      <td>92337</td>\n",
       "    </tr>\n",
       "    <tr>\n",
       "      <th>67210</th>\n",
       "      <td>2004</td>\n",
       "      <td>94491</td>\n",
       "      <td>1</td>\n",
       "      <td>87105</td>\n",
       "    </tr>\n",
       "  </tbody>\n",
       "</table>\n",
       "<p>67211 rows × 4 columns</p>\n",
       "</div>"
      ],
      "text/plain": [
       "       VehYear  VehOdo  WheelTypeID  VNZIP1\n",
       "0         2006   51954            2   32124\n",
       "1         2005   89127            2   78754\n",
       "2         2006   71271            1   80011\n",
       "3         2008   83338            2   94544\n",
       "4         2007   58698            1   77086\n",
       "...        ...     ...          ...     ...\n",
       "67206     2008   56072            2   77061\n",
       "67207     2004   94232            1   28273\n",
       "67208     2004   79534            1   37771\n",
       "67209     2003   79394            2   92337\n",
       "67210     2004   94491            1   87105\n",
       "\n",
       "[67211 rows x 4 columns]"
      ]
     },
     "execution_count": 10,
     "metadata": {},
     "output_type": "execute_result"
    }
   ],
   "source": [
    "cols_fl=['VehYear', 'VehOdo', 'WheelTypeID', 'VNZIP1']\n",
    "car_kick[cols_fl].astype('int64')"
   ]
  },
  {
   "cell_type": "markdown",
   "id": "484370b7",
   "metadata": {},
   "source": [
    "Now we can take a look at our categorical data.\n"
   ]
  },
  {
   "cell_type": "code",
   "execution_count": 11,
   "id": "b42d24c6",
   "metadata": {},
   "outputs": [
    {
     "data": {
      "text/plain": [
       "MANHEIM    0.576766\n",
       "OTHER      0.234590\n",
       "ADESA      0.188645\n",
       "Name: Auction, dtype: float64"
      ]
     },
     "execution_count": 11,
     "metadata": {},
     "output_type": "execute_result"
    }
   ],
   "source": [
    "car_kick['Auction'].value_counts(normalize=True)"
   ]
  },
  {
   "cell_type": "markdown",
   "id": "1db58686",
   "metadata": {},
   "source": [
    "The 'Auction' column shows the names of the auctions where cars were sold. We have 2 main companies - Manheim and Adesa.\n"
   ]
  },
  {
   "cell_type": "code",
   "execution_count": 12,
   "id": "6dfc9c80",
   "metadata": {},
   "outputs": [],
   "source": [
    "car_kick['Auction']=car_kick['Auction'].str.title()"
   ]
  },
  {
   "cell_type": "markdown",
   "id": "d3f4df6d",
   "metadata": {},
   "source": [
    "Next, we have car makes."
   ]
  },
  {
   "cell_type": "code",
   "execution_count": 13,
   "id": "ad18d914",
   "metadata": {},
   "outputs": [
    {
     "data": {
      "text/plain": [
       "CHEVROLET         16517\n",
       "DODGE             12403\n",
       "FORD              10687\n",
       "CHRYSLER           8115\n",
       "PONTIAC            3783\n",
       "KIA                2284\n",
       "NISSAN             1966\n",
       "HYUNDAI            1707\n",
       "SATURN             1679\n",
       "JEEP               1554\n",
       "TOYOTA             1096\n",
       "MITSUBISHI          968\n",
       "MAZDA               882\n",
       "MERCURY             792\n",
       "BUICK               676\n",
       "GMC                 622\n",
       "HONDA               468\n",
       "SUZUKI              276\n",
       "OLDSMOBILE          224\n",
       "ISUZU               130\n",
       "VOLKSWAGEN          118\n",
       "SCION               103\n",
       "VOLVO                37\n",
       "LINCOLN              31\n",
       "SUBARU               25\n",
       "MINI                 24\n",
       "ACURA                23\n",
       "CADILLAC             14\n",
       "INFINITI              3\n",
       "PLYMOUTH              2\n",
       "'TOYOTA SCION'        1\n",
       "LEXUS                 1\n",
       "Name: Make, dtype: int64"
      ]
     },
     "execution_count": 13,
     "metadata": {},
     "output_type": "execute_result"
    }
   ],
   "source": [
    "car_kick['Make'].value_counts()"
   ]
  },
  {
   "cell_type": "markdown",
   "id": "4dc776e7",
   "metadata": {},
   "source": [
    "The only problem here is the 'TOYOTA SCION' value which should be either Toyota or Scion\n"
   ]
  },
  {
   "cell_type": "code",
   "execution_count": 14,
   "id": "71ac1c27",
   "metadata": {},
   "outputs": [],
   "source": [
    "car_kick['Make']=car_kick['Make'].str.replace(\"'TOYOTA SCION'\", \"Scion\")\n",
    "car_kick['Make']=car_kick['Make'].str.title()"
   ]
  },
  {
   "cell_type": "code",
   "execution_count": 15,
   "id": "83332734",
   "metadata": {},
   "outputs": [
    {
     "data": {
      "text/plain": [
       "'PT CRUISER'              2195\n",
       "IMPALA                    1922\n",
       "TAURUS                    1369\n",
       "CALIBER                   1296\n",
       "'CARAVAN GRAND FWD V6'    1233\n",
       "                          ... \n",
       "'TORRENT FWD V6'             1\n",
       "'350Z MFI V6 3.5L DOH'       1\n",
       "'RODEO 2WD 4C MFI I-4'       1\n",
       "'CONCORDE 3.2L V6 EFI'       1\n",
       "'ENVOY XL 4WD V8 5.3L'       1\n",
       "Name: Model, Length: 953, dtype: int64"
      ]
     },
     "execution_count": 15,
     "metadata": {},
     "output_type": "execute_result"
    }
   ],
   "source": [
    "car_kick['Model'].value_counts()"
   ]
  },
  {
   "cell_type": "markdown",
   "id": "8d7b3333",
   "metadata": {},
   "source": [
    "For models we have 953 unique values, but we can clean it by deleting the quotation marks and keeping the first two words of the model (the names of the cars usually are not longer than two words). And in order to eliminate the the additional information from the second word of the model name we can set a minimum limit of 4 characters in that word."
   ]
  },
  {
   "cell_type": "code",
   "execution_count": 16,
   "id": "9aeabfed",
   "metadata": {},
   "outputs": [
    {
     "name": "stdout",
     "output_type": "stream",
     "text": [
      "                a               b\n",
      "0         Stratus              V6\n",
      "1          Taurus     3.0L V6 Efi\n",
      "2           Grand  Prix 3.8L V6 S\n",
      "3          Impala              V6\n",
      "4          Impala            None\n",
      "...           ...             ...\n",
      "67206          Pt         Cruiser\n",
      "67207  Pathfinder          2Wd V6\n",
      "67208       Grand           Am 4C\n",
      "67209  Rendezvous             Fwd\n",
      "67210      Mazda6            None\n",
      "\n",
      "[67211 rows x 2 columns]\n"
     ]
    }
   ],
   "source": [
    "car_kick['Model']=car_kick['Model'].str.replace(\"'\", \"\")\n",
    "car_kick['Model']=car_kick['Model'].str.title()\n",
    "models = car_kick['Model'].str.split(expand=True, n=1)\n",
    "models.columns=['a', 'b']\n",
    "print(models)"
   ]
  },
  {
   "cell_type": "code",
   "execution_count": 17,
   "id": "a29aa0ba",
   "metadata": {},
   "outputs": [
    {
     "name": "stdout",
     "output_type": "stream",
     "text": [
      "                a               b            c\n",
      "0         Stratus              V6      Stratus\n",
      "1          Taurus     3.0L V6 Efi  Taurus 3.0L\n",
      "2           Grand  Prix 3.8L V6 S   Grand Prix\n",
      "3          Impala              V6       Impala\n",
      "4          Impala            None       Impala\n",
      "...           ...             ...          ...\n",
      "67206          Pt         Cruiser   Pt Cruiser\n",
      "67207  Pathfinder          2Wd V6   Pathfinder\n",
      "67208       Grand           Am 4C        Grand\n",
      "67209  Rendezvous             Fwd   Rendezvous\n",
      "67210      Mazda6            None       Mazda6\n",
      "\n",
      "[67211 rows x 3 columns]\n"
     ]
    }
   ],
   "source": [
    "models['c']=models.apply(lambda x: (x['a'] if x['b'] is None or len(x['b'].split()[0])<4 else x['a']+ ' ' + x['b'].split()[0]), axis=1)\n",
    "print(models)"
   ]
  },
  {
   "cell_type": "code",
   "execution_count": 18,
   "id": "cfdd5862",
   "metadata": {},
   "outputs": [
    {
     "data": {
      "text/plain": [
       "Pt Cruiser         3520\n",
       "Impala             3195\n",
       "Malibu             2888\n",
       "Stratus            2453\n",
       "Sebring            2357\n",
       "                   ... \n",
       "Concorde 3.2L         1\n",
       "Azera 3.8L            1\n",
       "Altima Multiple       1\n",
       "Malibu Hybrid         1\n",
       "Sedona 3.5L           1\n",
       "Name: Model, Length: 322, dtype: int64"
      ]
     },
     "execution_count": 18,
     "metadata": {},
     "output_type": "execute_result"
    }
   ],
   "source": [
    "car_kick['Model']=models['c']\n",
    "car_kick['Model'].value_counts()"
   ]
  },
  {
   "cell_type": "markdown",
   "id": "72303e82",
   "metadata": {},
   "source": [
    "Now we have 322 unique values in 'Models' column and we saved the rest of the information in the models dataframe in case we need them for our future analysis."
   ]
  },
  {
   "cell_type": "code",
   "execution_count": 19,
   "id": "41e16929",
   "metadata": {},
   "outputs": [
    {
     "data": {
      "text/plain": [
       "Bas    13279\n",
       "Ls      9761\n",
       "Se      8851\n",
       "Sxt     3702\n",
       "Lt      3412\n",
       "       ...  \n",
       "Out        1\n",
       "Har        1\n",
       "Ult        1\n",
       "Z24        1\n",
       "Jls        1\n",
       "Name: Trim, Length: 132, dtype: int64"
      ]
     },
     "execution_count": 19,
     "metadata": {},
     "output_type": "execute_result"
    }
   ],
   "source": [
    "car_kick['Trim']=car_kick['Trim'].str.title()\n",
    "car_kick['Trim'].value_counts()"
   ]
  },
  {
   "cell_type": "markdown",
   "id": "a6d06d0b",
   "metadata": {},
   "source": [
    "For the 'Trim' column the most common value is 'Bas' which stands for 'Basic' or 'Base' and in order to check if that's#the only value that has that meaning we can find all the values that contain 'Ba' letters."
   ]
  },
  {
   "cell_type": "code",
   "execution_count": 20,
   "id": "47b4dd04",
   "metadata": {},
   "outputs": [
    {
     "data": {
      "text/plain": [
       "Bas    13279\n",
       "Name: Trim, dtype: int64"
      ]
     },
     "execution_count": 20,
     "metadata": {},
     "output_type": "execute_result"
    }
   ],
   "source": [
    "car_kick[car_kick['Trim'].str.contains('Ba')]['Trim'].value_counts()"
   ]
  },
  {
   "cell_type": "code",
   "execution_count": 21,
   "id": "40f5bdcc",
   "metadata": {},
   "outputs": [
    {
     "data": {
      "text/plain": [
       "'4D SEDAN'                    13363\n",
       "'4D SEDAN LS'                  4541\n",
       "'4D SEDAN SE'                  3648\n",
       "'4D WAGON'                     1979\n",
       "'MINIVAN 3.3L'                 1203\n",
       "                              ...  \n",
       "'5D SEDAN S GRAND TOURING'        1\n",
       "'REG CAB 3.0L XLT'                1\n",
       "'4D SUV 5.9L SLT PLUS'            1\n",
       "'2D COUPE GX'                     1\n",
       "'4D SEDAN LUXURY AWD'             1\n",
       "Name: SubModel, Length: 823, dtype: int64"
      ]
     },
     "execution_count": 21,
     "metadata": {},
     "output_type": "execute_result"
    }
   ],
   "source": [
    "car_kick['SubModel'].value_counts()"
   ]
  },
  {
   "cell_type": "markdown",
   "id": "ff63987a",
   "metadata": {},
   "source": [
    "The 'Submodel' column shows the body style and the trim information which was also mentioned in 'Trim' column. Therefore we could limit the string of the column to 2 words in order to keep mainly the body style information but for now we can just delete the quotation marks and capitalize it, because we might need extra information for our analysis."
   ]
  },
  {
   "cell_type": "code",
   "execution_count": 22,
   "id": "6777c3f4",
   "metadata": {},
   "outputs": [],
   "source": [
    "car_kick['SubModel']=car_kick['SubModel'].str.replace(\"'\", \"\").str.title()"
   ]
  },
  {
   "cell_type": "code",
   "execution_count": 23,
   "id": "4ca14f9e",
   "metadata": {},
   "outputs": [
    {
     "data": {
      "text/plain": [
       "SILVER         13683\n",
       "WHITE          11285\n",
       "BLUE            9515\n",
       "GREY            7422\n",
       "BLACK           6965\n",
       "RED             5678\n",
       "GOLD            4767\n",
       "GREEN           2961\n",
       "MAROON          1888\n",
       "BEIGE           1435\n",
       "BROWN            416\n",
       "ORANGE           381\n",
       "PURPLE           347\n",
       "YELLOW           233\n",
       "OTHER            175\n",
       "'NOT AVAIL'       60\n",
       "Name: Color, dtype: int64"
      ]
     },
     "execution_count": 23,
     "metadata": {},
     "output_type": "execute_result"
    }
   ],
   "source": [
    "car_kick['Color'].value_counts()"
   ]
  },
  {
   "cell_type": "markdown",
   "id": "8d9813ae",
   "metadata": {},
   "source": [
    "For the 'Color' column we mostly have clean data, only 60 of the cars have missing values"
   ]
  },
  {
   "cell_type": "code",
   "execution_count": 24,
   "id": "07ec9f20",
   "metadata": {},
   "outputs": [],
   "source": [
    "car_kick['Color']=car_kick['Color'].str.title().str.replace(\"'\", \"\")"
   ]
  },
  {
   "cell_type": "code",
   "execution_count": 25,
   "id": "b660559b",
   "metadata": {},
   "outputs": [
    {
     "data": {
      "text/plain": [
       "GM          23515\n",
       "CHRYSLER    22074\n",
       "FORD        11510\n",
       "OTHER       10112\n",
       "Name: TopThreeAmericanName, dtype: int64"
      ]
     },
     "execution_count": 25,
     "metadata": {},
     "output_type": "execute_result"
    }
   ],
   "source": [
    "car_kick['TopThreeAmericanName'].value_counts()"
   ]
  },
  {
   "cell_type": "code",
   "execution_count": 26,
   "id": "eb8db540",
   "metadata": {},
   "outputs": [
    {
     "data": {
      "text/plain": [
       "AUTO      64871\n",
       "MANUAL     2339\n",
       "Manual        1\n",
       "Name: Transmission, dtype: int64"
      ]
     },
     "execution_count": 26,
     "metadata": {},
     "output_type": "execute_result"
    }
   ],
   "source": [
    "car_kick['Transmission'].value_counts()"
   ]
  },
  {
   "cell_type": "code",
   "execution_count": 27,
   "id": "ecd311b7",
   "metadata": {
    "scrolled": true
   },
   "outputs": [
    {
     "data": {
      "text/plain": [
       "Alloy      34780\n",
       "Covers     31701\n",
       "Special      730\n",
       "Name: WheelType, dtype: int64"
      ]
     },
     "execution_count": 27,
     "metadata": {},
     "output_type": "execute_result"
    }
   ],
   "source": [
    "car_kick['WheelType'].value_counts()"
   ]
  },
  {
   "cell_type": "markdown",
   "id": "663d45e8",
   "metadata": {},
   "source": [
    "For the three columns above we have clean data. But in our dataset we have 2 columns representing the wheel types: 'WheelType' and 'WheelTypeID'. The types of the wheels are just replace with int values as you can see from the table below."
   ]
  },
  {
   "cell_type": "code",
   "execution_count": 28,
   "id": "67c330ed",
   "metadata": {},
   "outputs": [
    {
     "data": {
      "text/plain": [
       "WheelType\n",
       "Alloy      1.0\n",
       "Covers     2.0\n",
       "Special    3.0\n",
       "Name: WheelTypeID, dtype: float64"
      ]
     },
     "execution_count": 28,
     "metadata": {},
     "output_type": "execute_result"
    }
   ],
   "source": [
    "car_kick.groupby('WheelType')['WheelTypeID'].mean()"
   ]
  },
  {
   "cell_type": "code",
   "execution_count": 29,
   "id": "e31437f1",
   "metadata": {},
   "outputs": [],
   "source": [
    "cols_1=['TopThreeAmericanName', 'Transmission', 'WheelType']\n",
    "for col in cols_1:\n",
    "    car_kick[col]=car_kick[col].str.title()"
   ]
  },
  {
   "cell_type": "code",
   "execution_count": 30,
   "id": "9fba2dfd",
   "metadata": {},
   "outputs": [
    {
     "data": {
      "text/plain": [
       "AMERICAN            57099\n",
       "'OTHER ASIAN'        6407\n",
       "'TOP LINE ASIAN'     3526\n",
       "OTHER                 179\n",
       "Name: Nationality, dtype: int64"
      ]
     },
     "execution_count": 30,
     "metadata": {},
     "output_type": "execute_result"
    }
   ],
   "source": [
    "car_kick['Nationality'].value_counts()"
   ]
  },
  {
   "cell_type": "code",
   "execution_count": 31,
   "id": "9c138360",
   "metadata": {},
   "outputs": [
    {
     "data": {
      "text/plain": [
       "MEDIUM           28375\n",
       "LARGE             8444\n",
       "'MEDIUM SUV'      7149\n",
       "COMPACT           6546\n",
       "VAN               5422\n",
       "'LARGE TRUCK'     3044\n",
       "'SMALL SUV'       2162\n",
       "SPECIALTY         1747\n",
       "CROSSOVER         1433\n",
       "'LARGE SUV'       1342\n",
       "'SMALL TRUCK'      822\n",
       "SPORTS             725\n",
       "Name: Size, dtype: int64"
      ]
     },
     "execution_count": 31,
     "metadata": {},
     "output_type": "execute_result"
    }
   ],
   "source": [
    "car_kick['Size'].value_counts()"
   ]
  },
  {
   "cell_type": "markdown",
   "id": "14e653a8",
   "metadata": {},
   "source": [
    "And for the 'Nationality' and 'Size' columns some of the values have the quotation marks"
   ]
  },
  {
   "cell_type": "code",
   "execution_count": 32,
   "id": "62d8bebf",
   "metadata": {},
   "outputs": [],
   "source": [
    "cols_2=['Nationality', 'Size']\n",
    "for col in cols_2:\n",
    "    car_kick[col]=car_kick[col].str.replace(\"'\", \"\").str.title()"
   ]
  },
  {
   "cell_type": "code",
   "execution_count": 33,
   "id": "5a580985",
   "metadata": {},
   "outputs": [
    {
     "data": {
      "text/plain": [
       "TX    12737\n",
       "FL     9669\n",
       "CA     6466\n",
       "NC     6277\n",
       "AZ     5815\n",
       "CO     4678\n",
       "SC     3760\n",
       "OK     3297\n",
       "GA     2205\n",
       "VA     1554\n",
       "TN     1551\n",
       "MD     1103\n",
       "PA      822\n",
       "UT      800\n",
       "OH      744\n",
       "MO      735\n",
       "AL      634\n",
       "NV      520\n",
       "MS      483\n",
       "IN      442\n",
       "IA      441\n",
       "IL      429\n",
       "LA      312\n",
       "NJ      312\n",
       "WV      243\n",
       "NM      218\n",
       "KY      201\n",
       "OR      190\n",
       "ID      181\n",
       "WA      130\n",
       "NH       86\n",
       "MN       61\n",
       "AR       57\n",
       "NE       26\n",
       "MA       13\n",
       "MI       13\n",
       "NY        6\n",
       "Name: VNST, dtype: int64"
      ]
     },
     "execution_count": 33,
     "metadata": {},
     "output_type": "execute_result"
    }
   ],
   "source": [
    "car_kick['VNST'].value_counts()"
   ]
  },
  {
   "cell_type": "markdown",
   "id": "5c8efbfa",
   "metadata": {},
   "source": [
    "The 'VNST' column shows which state the navigation system was in. So basically it can show us in which state the car was driven before being sold on auction."
   ]
  },
  {
   "cell_type": "markdown",
   "id": "c79f3fe9",
   "metadata": {},
   "source": [
    "The last 2 columns are 'IsOnlineSale' and 'Class'. The first one shows whether the auction was online or not and the second one is the target column for our future model which shows whether the car is a 'kick' or not."
   ]
  },
  {
   "cell_type": "markdown",
   "id": "ec638e0a",
   "metadata": {},
   "source": [
    "Now we can take a look at duplicate data. If we consider all the columns for identifying duplicates, we don't have any. But if we use a subset of columns we would find 2 pairs of duplicate rows."
   ]
  },
  {
   "cell_type": "code",
   "execution_count": 34,
   "id": "82e1cf11",
   "metadata": {
    "scrolled": true
   },
   "outputs": [
    {
     "name": "stdout",
     "output_type": "stream",
     "text": [
      "Empty DataFrame\n",
      "Columns: [PurchDate, VehYear, VehicleAge, VehOdo, MMRAcquisitionAuctionAveragePrice, MMRAcquisitionAuctionCleanPrice, MMRAcquisitionRetailAveragePrice, MMRAcquisitonRetailCleanPrice, MMRCurrentAuctionAveragePrice, MMRCurrentAuctionCleanPrice, MMRCurrentRetailAveragePrice, MMRCurrentRetailCleanPrice, WarrantyCost, Auction, Make, Model, Trim, SubModel, Color, Transmission, WheelTypeID, WheelType, Nationality, Size, TopThreeAmericanName, VNZIP1, VNST, IsOnlineSale, Class]\n",
      "Index: []\n",
      "\n",
      "[0 rows x 29 columns]\n"
     ]
    }
   ],
   "source": [
    "car_dup=car_kick.duplicated()\n",
    "print(car_kick[car_dup])"
   ]
  },
  {
   "cell_type": "code",
   "execution_count": 53,
   "id": "abcbbd48",
   "metadata": {},
   "outputs": [
    {
     "name": "stdout",
     "output_type": "stream",
     "text": [
      "          PurchDate  VehYear  VehicleAge   VehOdo  \\\n",
      "4640   1.245283e+09   2006.0           3  57626.0   \n",
      "46534  1.232410e+09   2004.0           5  92005.0   \n",
      "49804  1.242864e+09   2006.0           3  57626.0   \n",
      "67199  1.232410e+09   2004.0           5  92005.0   \n",
      "\n",
      "       MMRAcquisitionAuctionAveragePrice  MMRAcquisitionAuctionCleanPrice  \\\n",
      "4640                              5480.0                           6461.0   \n",
      "46534                                0.0                              1.0   \n",
      "49804                             5480.0                           6461.0   \n",
      "67199                                0.0                              1.0   \n",
      "\n",
      "       MMRAcquisitionRetailAveragePrice  MMRAcquisitonRetailCleanPrice  \\\n",
      "4640                             6418.0                         7478.0   \n",
      "46534                               0.0                            0.0   \n",
      "49804                            6418.0                         7478.0   \n",
      "67199                               0.0                            0.0   \n",
      "\n",
      "       MMRCurrentAuctionAveragePrice  MMRCurrentAuctionCleanPrice  ...  \\\n",
      "4640                          5638.0                       6512.0  ...   \n",
      "46534                            0.0                          1.0  ...   \n",
      "49804                         5480.0                       6461.0  ...   \n",
      "67199                            0.0                          1.0  ...   \n",
      "\n",
      "       Transmission  WheelTypeID  WheelType Nationality    Size  \\\n",
      "4640           Auto          2.0     Covers    American  Medium   \n",
      "46534          Auto          1.0      Alloy    American  Medium   \n",
      "49804          Auto          2.0     Covers    American  Medium   \n",
      "67199          Auto          3.0    Special    American  Medium   \n",
      "\n",
      "      TopThreeAmericanName VNZIP1 VNST IsOnlineSale Class  \n",
      "4640              Chrysler  76040   TX            0     0  \n",
      "46534             Chrysler  75061   TX            0     1  \n",
      "49804             Chrysler  76040   TX            0     0  \n",
      "67199             Chrysler  75061   TX            0     1  \n",
      "\n",
      "[4 rows x 29 columns]\n"
     ]
    }
   ],
   "source": [
    "subset_1=['VehYear', 'VehOdo', 'Make', 'Model', 'VNZIP1', 'Color', 'MMRAcquisitionAuctionCleanPrice']\n",
    "car_dup_2=car_kick.duplicated(subset=subset_1, keep=False)\n",
    "print(car_kick[car_dup_2])"
   ]
  },
  {
   "cell_type": "code",
   "execution_count": 49,
   "id": "ebd26e3d",
   "metadata": {},
   "outputs": [
    {
     "data": {
      "text/html": [
       "<div>\n",
       "<style scoped>\n",
       "    .dataframe tbody tr th:only-of-type {\n",
       "        vertical-align: middle;\n",
       "    }\n",
       "\n",
       "    .dataframe tbody tr th {\n",
       "        vertical-align: top;\n",
       "    }\n",
       "\n",
       "    .dataframe thead th {\n",
       "        text-align: right;\n",
       "    }\n",
       "</style>\n",
       "<table border=\"1\" class=\"dataframe\">\n",
       "  <thead>\n",
       "    <tr style=\"text-align: right;\">\n",
       "      <th></th>\n",
       "      <th>4640</th>\n",
       "      <th>49804</th>\n",
       "    </tr>\n",
       "  </thead>\n",
       "  <tbody>\n",
       "    <tr>\n",
       "      <th>PurchDate</th>\n",
       "      <td>1245283200.0</td>\n",
       "      <td>1242864000.0</td>\n",
       "    </tr>\n",
       "    <tr>\n",
       "      <th>VehYear</th>\n",
       "      <td>2006.0</td>\n",
       "      <td>2006.0</td>\n",
       "    </tr>\n",
       "    <tr>\n",
       "      <th>VehicleAge</th>\n",
       "      <td>3</td>\n",
       "      <td>3</td>\n",
       "    </tr>\n",
       "    <tr>\n",
       "      <th>VehOdo</th>\n",
       "      <td>57626.0</td>\n",
       "      <td>57626.0</td>\n",
       "    </tr>\n",
       "    <tr>\n",
       "      <th>MMRAcquisitionAuctionAveragePrice</th>\n",
       "      <td>5480.0</td>\n",
       "      <td>5480.0</td>\n",
       "    </tr>\n",
       "    <tr>\n",
       "      <th>MMRAcquisitionAuctionCleanPrice</th>\n",
       "      <td>6461.0</td>\n",
       "      <td>6461.0</td>\n",
       "    </tr>\n",
       "    <tr>\n",
       "      <th>MMRAcquisitionRetailAveragePrice</th>\n",
       "      <td>6418.0</td>\n",
       "      <td>6418.0</td>\n",
       "    </tr>\n",
       "    <tr>\n",
       "      <th>MMRAcquisitonRetailCleanPrice</th>\n",
       "      <td>7478.0</td>\n",
       "      <td>7478.0</td>\n",
       "    </tr>\n",
       "    <tr>\n",
       "      <th>MMRCurrentAuctionAveragePrice</th>\n",
       "      <td>5638.0</td>\n",
       "      <td>5480.0</td>\n",
       "    </tr>\n",
       "    <tr>\n",
       "      <th>MMRCurrentAuctionCleanPrice</th>\n",
       "      <td>6512.0</td>\n",
       "      <td>6461.0</td>\n",
       "    </tr>\n",
       "    <tr>\n",
       "      <th>MMRCurrentRetailAveragePrice</th>\n",
       "      <td>6589.0</td>\n",
       "      <td>6418.0</td>\n",
       "    </tr>\n",
       "    <tr>\n",
       "      <th>MMRCurrentRetailCleanPrice</th>\n",
       "      <td>7533.0</td>\n",
       "      <td>7478.0</td>\n",
       "    </tr>\n",
       "    <tr>\n",
       "      <th>WarrantyCost</th>\n",
       "      <td>1086.0</td>\n",
       "      <td>1086.0</td>\n",
       "    </tr>\n",
       "    <tr>\n",
       "      <th>Auction</th>\n",
       "      <td>Manheim</td>\n",
       "      <td>Manheim</td>\n",
       "    </tr>\n",
       "    <tr>\n",
       "      <th>Make</th>\n",
       "      <td>Dodge</td>\n",
       "      <td>Dodge</td>\n",
       "    </tr>\n",
       "    <tr>\n",
       "      <th>Model</th>\n",
       "      <td>Stratus</td>\n",
       "      <td>Stratus</td>\n",
       "    </tr>\n",
       "    <tr>\n",
       "      <th>Trim</th>\n",
       "      <td>Sxt</td>\n",
       "      <td>Sxt</td>\n",
       "    </tr>\n",
       "    <tr>\n",
       "      <th>SubModel</th>\n",
       "      <td>4D Sedan Sxt Ffv</td>\n",
       "      <td>4D Sedan Sxt Ffv</td>\n",
       "    </tr>\n",
       "    <tr>\n",
       "      <th>Color</th>\n",
       "      <td>Silver</td>\n",
       "      <td>Silver</td>\n",
       "    </tr>\n",
       "    <tr>\n",
       "      <th>Transmission</th>\n",
       "      <td>Auto</td>\n",
       "      <td>Auto</td>\n",
       "    </tr>\n",
       "    <tr>\n",
       "      <th>WheelTypeID</th>\n",
       "      <td>2.0</td>\n",
       "      <td>2.0</td>\n",
       "    </tr>\n",
       "    <tr>\n",
       "      <th>WheelType</th>\n",
       "      <td>Covers</td>\n",
       "      <td>Covers</td>\n",
       "    </tr>\n",
       "    <tr>\n",
       "      <th>Nationality</th>\n",
       "      <td>American</td>\n",
       "      <td>American</td>\n",
       "    </tr>\n",
       "    <tr>\n",
       "      <th>Size</th>\n",
       "      <td>Medium</td>\n",
       "      <td>Medium</td>\n",
       "    </tr>\n",
       "    <tr>\n",
       "      <th>TopThreeAmericanName</th>\n",
       "      <td>Chrysler</td>\n",
       "      <td>Chrysler</td>\n",
       "    </tr>\n",
       "    <tr>\n",
       "      <th>VNZIP1</th>\n",
       "      <td>76040</td>\n",
       "      <td>76040</td>\n",
       "    </tr>\n",
       "    <tr>\n",
       "      <th>VNST</th>\n",
       "      <td>TX</td>\n",
       "      <td>TX</td>\n",
       "    </tr>\n",
       "    <tr>\n",
       "      <th>IsOnlineSale</th>\n",
       "      <td>0</td>\n",
       "      <td>0</td>\n",
       "    </tr>\n",
       "    <tr>\n",
       "      <th>Class</th>\n",
       "      <td>0</td>\n",
       "      <td>0</td>\n",
       "    </tr>\n",
       "  </tbody>\n",
       "</table>\n",
       "</div>"
      ],
      "text/plain": [
       "                                              4640              49804\n",
       "PurchDate                              1245283200.0      1242864000.0\n",
       "VehYear                                      2006.0            2006.0\n",
       "VehicleAge                                        3                 3\n",
       "VehOdo                                      57626.0           57626.0\n",
       "MMRAcquisitionAuctionAveragePrice            5480.0            5480.0\n",
       "MMRAcquisitionAuctionCleanPrice              6461.0            6461.0\n",
       "MMRAcquisitionRetailAveragePrice             6418.0            6418.0\n",
       "MMRAcquisitonRetailCleanPrice                7478.0            7478.0\n",
       "MMRCurrentAuctionAveragePrice                5638.0            5480.0\n",
       "MMRCurrentAuctionCleanPrice                  6512.0            6461.0\n",
       "MMRCurrentRetailAveragePrice                 6589.0            6418.0\n",
       "MMRCurrentRetailCleanPrice                   7533.0            7478.0\n",
       "WarrantyCost                                 1086.0            1086.0\n",
       "Auction                                     Manheim           Manheim\n",
       "Make                                          Dodge             Dodge\n",
       "Model                                       Stratus           Stratus\n",
       "Trim                                            Sxt               Sxt\n",
       "SubModel                           4D Sedan Sxt Ffv  4D Sedan Sxt Ffv\n",
       "Color                                        Silver            Silver\n",
       "Transmission                                   Auto              Auto\n",
       "WheelTypeID                                     2.0               2.0\n",
       "WheelType                                    Covers            Covers\n",
       "Nationality                                American          American\n",
       "Size                                         Medium            Medium\n",
       "TopThreeAmericanName                       Chrysler          Chrysler\n",
       "VNZIP1                                        76040             76040\n",
       "VNST                                             TX                TX\n",
       "IsOnlineSale                                      0                 0\n",
       "Class                                             0                 0"
      ]
     },
     "execution_count": 49,
     "metadata": {},
     "output_type": "execute_result"
    }
   ],
   "source": [
    "car_kick.iloc[[4640, 49804]].T"
   ]
  },
  {
   "cell_type": "code",
   "execution_count": 54,
   "id": "55d383d4",
   "metadata": {},
   "outputs": [
    {
     "data": {
      "text/html": [
       "<div>\n",
       "<style scoped>\n",
       "    .dataframe tbody tr th:only-of-type {\n",
       "        vertical-align: middle;\n",
       "    }\n",
       "\n",
       "    .dataframe tbody tr th {\n",
       "        vertical-align: top;\n",
       "    }\n",
       "\n",
       "    .dataframe thead th {\n",
       "        text-align: right;\n",
       "    }\n",
       "</style>\n",
       "<table border=\"1\" class=\"dataframe\">\n",
       "  <thead>\n",
       "    <tr style=\"text-align: right;\">\n",
       "      <th></th>\n",
       "      <th>46534</th>\n",
       "      <th>67199</th>\n",
       "    </tr>\n",
       "  </thead>\n",
       "  <tbody>\n",
       "    <tr>\n",
       "      <th>PurchDate</th>\n",
       "      <td>1232409600.0</td>\n",
       "      <td>1232409600.0</td>\n",
       "    </tr>\n",
       "    <tr>\n",
       "      <th>VehYear</th>\n",
       "      <td>2004.0</td>\n",
       "      <td>2004.0</td>\n",
       "    </tr>\n",
       "    <tr>\n",
       "      <th>VehicleAge</th>\n",
       "      <td>5</td>\n",
       "      <td>5</td>\n",
       "    </tr>\n",
       "    <tr>\n",
       "      <th>VehOdo</th>\n",
       "      <td>92005.0</td>\n",
       "      <td>92005.0</td>\n",
       "    </tr>\n",
       "    <tr>\n",
       "      <th>MMRAcquisitionAuctionAveragePrice</th>\n",
       "      <td>0.0</td>\n",
       "      <td>0.0</td>\n",
       "    </tr>\n",
       "    <tr>\n",
       "      <th>MMRAcquisitionAuctionCleanPrice</th>\n",
       "      <td>1.0</td>\n",
       "      <td>1.0</td>\n",
       "    </tr>\n",
       "    <tr>\n",
       "      <th>MMRAcquisitionRetailAveragePrice</th>\n",
       "      <td>0.0</td>\n",
       "      <td>0.0</td>\n",
       "    </tr>\n",
       "    <tr>\n",
       "      <th>MMRAcquisitonRetailCleanPrice</th>\n",
       "      <td>0.0</td>\n",
       "      <td>0.0</td>\n",
       "    </tr>\n",
       "    <tr>\n",
       "      <th>MMRCurrentAuctionAveragePrice</th>\n",
       "      <td>0.0</td>\n",
       "      <td>0.0</td>\n",
       "    </tr>\n",
       "    <tr>\n",
       "      <th>MMRCurrentAuctionCleanPrice</th>\n",
       "      <td>1.0</td>\n",
       "      <td>1.0</td>\n",
       "    </tr>\n",
       "    <tr>\n",
       "      <th>MMRCurrentRetailAveragePrice</th>\n",
       "      <td>0.0</td>\n",
       "      <td>0.0</td>\n",
       "    </tr>\n",
       "    <tr>\n",
       "      <th>MMRCurrentRetailCleanPrice</th>\n",
       "      <td>0.0</td>\n",
       "      <td>0.0</td>\n",
       "    </tr>\n",
       "    <tr>\n",
       "      <th>WarrantyCost</th>\n",
       "      <td>1485.0</td>\n",
       "      <td>1485.0</td>\n",
       "    </tr>\n",
       "    <tr>\n",
       "      <th>Auction</th>\n",
       "      <td>Other</td>\n",
       "      <td>Other</td>\n",
       "    </tr>\n",
       "    <tr>\n",
       "      <th>Make</th>\n",
       "      <td>Chrysler</td>\n",
       "      <td>Chrysler</td>\n",
       "    </tr>\n",
       "    <tr>\n",
       "      <th>Model</th>\n",
       "      <td>Sebring</td>\n",
       "      <td>Sebring</td>\n",
       "    </tr>\n",
       "    <tr>\n",
       "      <th>Trim</th>\n",
       "      <td>Lim</td>\n",
       "      <td>Lim</td>\n",
       "    </tr>\n",
       "    <tr>\n",
       "      <th>SubModel</th>\n",
       "      <td>2D Coupe Limted</td>\n",
       "      <td>2D Coupe Limted</td>\n",
       "    </tr>\n",
       "    <tr>\n",
       "      <th>Color</th>\n",
       "      <td>Red</td>\n",
       "      <td>Red</td>\n",
       "    </tr>\n",
       "    <tr>\n",
       "      <th>Transmission</th>\n",
       "      <td>Auto</td>\n",
       "      <td>Auto</td>\n",
       "    </tr>\n",
       "    <tr>\n",
       "      <th>WheelTypeID</th>\n",
       "      <td>1.0</td>\n",
       "      <td>3.0</td>\n",
       "    </tr>\n",
       "    <tr>\n",
       "      <th>WheelType</th>\n",
       "      <td>Alloy</td>\n",
       "      <td>Special</td>\n",
       "    </tr>\n",
       "    <tr>\n",
       "      <th>Nationality</th>\n",
       "      <td>American</td>\n",
       "      <td>American</td>\n",
       "    </tr>\n",
       "    <tr>\n",
       "      <th>Size</th>\n",
       "      <td>Medium</td>\n",
       "      <td>Medium</td>\n",
       "    </tr>\n",
       "    <tr>\n",
       "      <th>TopThreeAmericanName</th>\n",
       "      <td>Chrysler</td>\n",
       "      <td>Chrysler</td>\n",
       "    </tr>\n",
       "    <tr>\n",
       "      <th>VNZIP1</th>\n",
       "      <td>75061</td>\n",
       "      <td>75061</td>\n",
       "    </tr>\n",
       "    <tr>\n",
       "      <th>VNST</th>\n",
       "      <td>TX</td>\n",
       "      <td>TX</td>\n",
       "    </tr>\n",
       "    <tr>\n",
       "      <th>IsOnlineSale</th>\n",
       "      <td>0</td>\n",
       "      <td>0</td>\n",
       "    </tr>\n",
       "    <tr>\n",
       "      <th>Class</th>\n",
       "      <td>1</td>\n",
       "      <td>1</td>\n",
       "    </tr>\n",
       "  </tbody>\n",
       "</table>\n",
       "</div>"
      ],
      "text/plain": [
       "                                             46534            67199\n",
       "PurchDate                             1232409600.0     1232409600.0\n",
       "VehYear                                     2004.0           2004.0\n",
       "VehicleAge                                       5                5\n",
       "VehOdo                                     92005.0          92005.0\n",
       "MMRAcquisitionAuctionAveragePrice              0.0              0.0\n",
       "MMRAcquisitionAuctionCleanPrice                1.0              1.0\n",
       "MMRAcquisitionRetailAveragePrice               0.0              0.0\n",
       "MMRAcquisitonRetailCleanPrice                  0.0              0.0\n",
       "MMRCurrentAuctionAveragePrice                  0.0              0.0\n",
       "MMRCurrentAuctionCleanPrice                    1.0              1.0\n",
       "MMRCurrentRetailAveragePrice                   0.0              0.0\n",
       "MMRCurrentRetailCleanPrice                     0.0              0.0\n",
       "WarrantyCost                                1485.0           1485.0\n",
       "Auction                                      Other            Other\n",
       "Make                                      Chrysler         Chrysler\n",
       "Model                                      Sebring          Sebring\n",
       "Trim                                           Lim              Lim\n",
       "SubModel                           2D Coupe Limted  2D Coupe Limted\n",
       "Color                                          Red              Red\n",
       "Transmission                                  Auto             Auto\n",
       "WheelTypeID                                    1.0              3.0\n",
       "WheelType                                    Alloy          Special\n",
       "Nationality                               American         American\n",
       "Size                                        Medium           Medium\n",
       "TopThreeAmericanName                      Chrysler         Chrysler\n",
       "VNZIP1                                       75061            75061\n",
       "VNST                                            TX               TX\n",
       "IsOnlineSale                                     0                0\n",
       "Class                                            1                1"
      ]
     },
     "execution_count": 54,
     "metadata": {},
     "output_type": "execute_result"
    }
   ],
   "source": [
    "car_kick.iloc[[46534, 67199]].T"
   ]
  },
  {
   "cell_type": "markdown",
   "id": "399e9d0d",
   "metadata": {},
   "source": [
    "If we don't consider the auction price as a identifying column we can find 7 more pairs of duplicate data, but the different auction prices and date values make clear that the same cars were sold twice on auctions. Now we can drop those two duplicate rows from our dataset."
   ]
  },
  {
   "cell_type": "code",
   "execution_count": 55,
   "id": "b79a4f97",
   "metadata": {},
   "outputs": [],
   "source": [
    "car_kick.drop_duplicates(subset=subset_1, inplace=True)"
   ]
  }
 ],
 "metadata": {
  "kernelspec": {
   "display_name": "Python 3 (ipykernel)",
   "language": "python",
   "name": "python3"
  },
  "language_info": {
   "codemirror_mode": {
    "name": "ipython",
    "version": 3
   },
   "file_extension": ".py",
   "mimetype": "text/x-python",
   "name": "python",
   "nbconvert_exporter": "python",
   "pygments_lexer": "ipython3",
   "version": "3.9.12"
  }
 },
 "nbformat": 4,
 "nbformat_minor": 5
}
