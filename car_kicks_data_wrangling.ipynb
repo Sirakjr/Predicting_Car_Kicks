{
 "cells": [
  {
   "cell_type": "code",
   "execution_count": 1,
   "id": "8b36f579",
   "metadata": {},
   "outputs": [],
   "source": [
    "#First of all, we need to import the libraries we need\n",
    "import pandas as pd\n",
    "import numpy as np\n",
    "import matplotlib.pyplot as plt\n",
    "import datetime as dt"
   ]
  },
  {
   "cell_type": "code",
   "execution_count": 2,
   "id": "81dcf6d1",
   "metadata": {},
   "outputs": [
    {
     "data": {
      "text/html": [
       "<div>\n",
       "<style scoped>\n",
       "    .dataframe tbody tr th:only-of-type {\n",
       "        vertical-align: middle;\n",
       "    }\n",
       "\n",
       "    .dataframe tbody tr th {\n",
       "        vertical-align: top;\n",
       "    }\n",
       "\n",
       "    .dataframe thead th {\n",
       "        text-align: right;\n",
       "    }\n",
       "</style>\n",
       "<table border=\"1\" class=\"dataframe\">\n",
       "  <thead>\n",
       "    <tr style=\"text-align: right;\">\n",
       "      <th></th>\n",
       "      <th>Unnamed: 0</th>\n",
       "      <th>PurchDate</th>\n",
       "      <th>VehYear</th>\n",
       "      <th>VehicleAge</th>\n",
       "      <th>VehOdo</th>\n",
       "      <th>MMRAcquisitionAuctionAveragePrice</th>\n",
       "      <th>MMRAcquisitionAuctionCleanPrice</th>\n",
       "      <th>MMRAcquisitionRetailAveragePrice</th>\n",
       "      <th>MMRAcquisitonRetailCleanPrice</th>\n",
       "      <th>MMRCurrentAuctionAveragePrice</th>\n",
       "      <th>...</th>\n",
       "      <th>Transmission</th>\n",
       "      <th>WheelTypeID</th>\n",
       "      <th>WheelType</th>\n",
       "      <th>Nationality</th>\n",
       "      <th>Size</th>\n",
       "      <th>TopThreeAmericanName</th>\n",
       "      <th>VNZIP1</th>\n",
       "      <th>VNST</th>\n",
       "      <th>IsOnlineSale</th>\n",
       "      <th>Class</th>\n",
       "    </tr>\n",
       "  </thead>\n",
       "  <tbody>\n",
       "    <tr>\n",
       "      <th>0</th>\n",
       "      <td>0</td>\n",
       "      <td>1.289952e+09</td>\n",
       "      <td>2006.0</td>\n",
       "      <td>4</td>\n",
       "      <td>51954.0</td>\n",
       "      <td>6197.0</td>\n",
       "      <td>7062.0</td>\n",
       "      <td>9605.0</td>\n",
       "      <td>10426.0</td>\n",
       "      <td>5341.0</td>\n",
       "      <td>...</td>\n",
       "      <td>AUTO</td>\n",
       "      <td>2.0</td>\n",
       "      <td>Covers</td>\n",
       "      <td>AMERICAN</td>\n",
       "      <td>MEDIUM</td>\n",
       "      <td>CHRYSLER</td>\n",
       "      <td>32124</td>\n",
       "      <td>FL</td>\n",
       "      <td>0</td>\n",
       "      <td>0</td>\n",
       "    </tr>\n",
       "    <tr>\n",
       "      <th>1</th>\n",
       "      <td>1</td>\n",
       "      <td>1.242691e+09</td>\n",
       "      <td>2005.0</td>\n",
       "      <td>4</td>\n",
       "      <td>89127.0</td>\n",
       "      <td>3688.0</td>\n",
       "      <td>4783.0</td>\n",
       "      <td>4483.0</td>\n",
       "      <td>5666.0</td>\n",
       "      <td>3688.0</td>\n",
       "      <td>...</td>\n",
       "      <td>AUTO</td>\n",
       "      <td>2.0</td>\n",
       "      <td>Covers</td>\n",
       "      <td>AMERICAN</td>\n",
       "      <td>MEDIUM</td>\n",
       "      <td>FORD</td>\n",
       "      <td>78754</td>\n",
       "      <td>TX</td>\n",
       "      <td>0</td>\n",
       "      <td>0</td>\n",
       "    </tr>\n",
       "    <tr>\n",
       "      <th>2</th>\n",
       "      <td>2</td>\n",
       "      <td>1.248221e+09</td>\n",
       "      <td>2006.0</td>\n",
       "      <td>3</td>\n",
       "      <td>71271.0</td>\n",
       "      <td>6897.0</td>\n",
       "      <td>8449.0</td>\n",
       "      <td>7949.0</td>\n",
       "      <td>9625.0</td>\n",
       "      <td>6868.0</td>\n",
       "      <td>...</td>\n",
       "      <td>AUTO</td>\n",
       "      <td>1.0</td>\n",
       "      <td>Alloy</td>\n",
       "      <td>AMERICAN</td>\n",
       "      <td>LARGE</td>\n",
       "      <td>GM</td>\n",
       "      <td>80011</td>\n",
       "      <td>CO</td>\n",
       "      <td>0</td>\n",
       "      <td>0</td>\n",
       "    </tr>\n",
       "    <tr>\n",
       "      <th>3</th>\n",
       "      <td>3</td>\n",
       "      <td>1.285718e+09</td>\n",
       "      <td>2008.0</td>\n",
       "      <td>2</td>\n",
       "      <td>83338.0</td>\n",
       "      <td>7878.0</td>\n",
       "      <td>8925.0</td>\n",
       "      <td>11723.0</td>\n",
       "      <td>13026.0</td>\n",
       "      <td>7801.0</td>\n",
       "      <td>...</td>\n",
       "      <td>AUTO</td>\n",
       "      <td>2.0</td>\n",
       "      <td>Covers</td>\n",
       "      <td>AMERICAN</td>\n",
       "      <td>LARGE</td>\n",
       "      <td>GM</td>\n",
       "      <td>94544</td>\n",
       "      <td>CA</td>\n",
       "      <td>0</td>\n",
       "      <td>0</td>\n",
       "    </tr>\n",
       "    <tr>\n",
       "      <th>4</th>\n",
       "      <td>4</td>\n",
       "      <td>1.237334e+09</td>\n",
       "      <td>2007.0</td>\n",
       "      <td>2</td>\n",
       "      <td>58698.0</td>\n",
       "      <td>8800.0</td>\n",
       "      <td>10091.0</td>\n",
       "      <td>10004.0</td>\n",
       "      <td>11398.0</td>\n",
       "      <td>7355.0</td>\n",
       "      <td>...</td>\n",
       "      <td>AUTO</td>\n",
       "      <td>1.0</td>\n",
       "      <td>Alloy</td>\n",
       "      <td>AMERICAN</td>\n",
       "      <td>LARGE</td>\n",
       "      <td>GM</td>\n",
       "      <td>77086</td>\n",
       "      <td>TX</td>\n",
       "      <td>0</td>\n",
       "      <td>0</td>\n",
       "    </tr>\n",
       "  </tbody>\n",
       "</table>\n",
       "<p>5 rows × 30 columns</p>\n",
       "</div>"
      ],
      "text/plain": [
       "   Unnamed: 0     PurchDate  VehYear  VehicleAge   VehOdo  \\\n",
       "0           0  1.289952e+09   2006.0           4  51954.0   \n",
       "1           1  1.242691e+09   2005.0           4  89127.0   \n",
       "2           2  1.248221e+09   2006.0           3  71271.0   \n",
       "3           3  1.285718e+09   2008.0           2  83338.0   \n",
       "4           4  1.237334e+09   2007.0           2  58698.0   \n",
       "\n",
       "   MMRAcquisitionAuctionAveragePrice  MMRAcquisitionAuctionCleanPrice  \\\n",
       "0                             6197.0                           7062.0   \n",
       "1                             3688.0                           4783.0   \n",
       "2                             6897.0                           8449.0   \n",
       "3                             7878.0                           8925.0   \n",
       "4                             8800.0                          10091.0   \n",
       "\n",
       "   MMRAcquisitionRetailAveragePrice  MMRAcquisitonRetailCleanPrice  \\\n",
       "0                            9605.0                        10426.0   \n",
       "1                            4483.0                         5666.0   \n",
       "2                            7949.0                         9625.0   \n",
       "3                           11723.0                        13026.0   \n",
       "4                           10004.0                        11398.0   \n",
       "\n",
       "   MMRCurrentAuctionAveragePrice  ...  Transmission  WheelTypeID  WheelType  \\\n",
       "0                         5341.0  ...          AUTO          2.0     Covers   \n",
       "1                         3688.0  ...          AUTO          2.0     Covers   \n",
       "2                         6868.0  ...          AUTO          1.0      Alloy   \n",
       "3                         7801.0  ...          AUTO          2.0     Covers   \n",
       "4                         7355.0  ...          AUTO          1.0      Alloy   \n",
       "\n",
       "   Nationality    Size TopThreeAmericanName VNZIP1 VNST IsOnlineSale Class  \n",
       "0     AMERICAN  MEDIUM             CHRYSLER  32124   FL            0     0  \n",
       "1     AMERICAN  MEDIUM                 FORD  78754   TX            0     0  \n",
       "2     AMERICAN   LARGE                   GM  80011   CO            0     0  \n",
       "3     AMERICAN   LARGE                   GM  94544   CA            0     0  \n",
       "4     AMERICAN   LARGE                   GM  77086   TX            0     0  \n",
       "\n",
       "[5 rows x 30 columns]"
      ]
     },
     "execution_count": 2,
     "metadata": {},
     "output_type": "execute_result"
    }
   ],
   "source": [
    "#Uploading the dataset and printing first few rows\n",
    "car_kick=pd.read_csv('car_kicks.csv')\n",
    "car_kick.head()"
   ]
  },
  {
   "cell_type": "code",
   "execution_count": 3,
   "id": "1db30758",
   "metadata": {},
   "outputs": [],
   "source": [
    "#As we can see we have a duplicate index column, which we can drop before moving forward\n",
    "car_kick.drop(columns=['Unnamed: 0'], inplace=True)"
   ]
  },
  {
   "cell_type": "code",
   "execution_count": 4,
   "id": "b77cadc5",
   "metadata": {},
   "outputs": [
    {
     "name": "stdout",
     "output_type": "stream",
     "text": [
      "<class 'pandas.core.frame.DataFrame'>\n",
      "RangeIndex: 67211 entries, 0 to 67210\n",
      "Data columns (total 29 columns):\n",
      " #   Column                             Non-Null Count  Dtype  \n",
      "---  ------                             --------------  -----  \n",
      " 0   PurchDate                          67211 non-null  float64\n",
      " 1   VehYear                            67211 non-null  float64\n",
      " 2   VehicleAge                         67211 non-null  int64  \n",
      " 3   VehOdo                             67211 non-null  float64\n",
      " 4   MMRAcquisitionAuctionAveragePrice  67211 non-null  float64\n",
      " 5   MMRAcquisitionAuctionCleanPrice    67211 non-null  float64\n",
      " 6   MMRAcquisitionRetailAveragePrice   67211 non-null  float64\n",
      " 7   MMRAcquisitonRetailCleanPrice      67211 non-null  float64\n",
      " 8   MMRCurrentAuctionAveragePrice      67211 non-null  float64\n",
      " 9   MMRCurrentAuctionCleanPrice        67211 non-null  float64\n",
      " 10  MMRCurrentRetailAveragePrice       67211 non-null  float64\n",
      " 11  MMRCurrentRetailCleanPrice         67211 non-null  float64\n",
      " 12  WarrantyCost                       67211 non-null  float64\n",
      " 13  Auction                            67211 non-null  object \n",
      " 14  Make                               67211 non-null  object \n",
      " 15  Model                              67211 non-null  object \n",
      " 16  Trim                               67211 non-null  object \n",
      " 17  SubModel                           67211 non-null  object \n",
      " 18  Color                              67211 non-null  object \n",
      " 19  Transmission                       67211 non-null  object \n",
      " 20  WheelTypeID                        67211 non-null  float64\n",
      " 21  WheelType                          67211 non-null  object \n",
      " 22  Nationality                        67211 non-null  object \n",
      " 23  Size                               67211 non-null  object \n",
      " 24  TopThreeAmericanName               67211 non-null  object \n",
      " 25  VNZIP1                             67211 non-null  int64  \n",
      " 26  VNST                               67211 non-null  object \n",
      " 27  IsOnlineSale                       67211 non-null  int64  \n",
      " 28  Class                              67211 non-null  int64  \n",
      "dtypes: float64(13), int64(4), object(12)\n",
      "memory usage: 14.9+ MB\n"
     ]
    }
   ],
   "source": [
    "#Now we can call .info() method to get more information about our columns\n",
    "car_kick.info()"
   ]
  },
  {
   "cell_type": "markdown",
   "id": "67635fc9",
   "metadata": {},
   "source": [
    "So we have 29 columns, 8 of which represent the price of the car. We also don't have any missing values.4 of the price columns represent the price of the car when it was bought from the auction, the other 4 - the price of the car when the data was collected. Each of those groups include average and clean prices in both auction and retail.For our analyses we'll only need the prices of the car when it was bought from the auction. So we can drop 4 current price columns."
   ]
  },
  {
   "cell_type": "code",
   "execution_count": 5,
   "id": "c83ed4d3",
   "metadata": {},
   "outputs": [],
   "source": [
    "current_price_cols=['MMRCurrentAuctionAveragePrice', 'MMRCurrentAuctionCleanPrice', 'MMRCurrentRetailAveragePrice', 'MMRCurrentRetailCleanPrice']\n",
    "car_kick.drop(columns=current_price_cols, inplace=True)"
   ]
  },
  {
   "cell_type": "markdown",
   "id": "5fed35cd",
   "metadata": {},
   "source": [
    "Now we'll check the data types and look for outliers in our dataset."
   ]
  },
  {
   "cell_type": "code",
   "execution_count": 6,
   "id": "6fcb5885",
   "metadata": {
    "scrolled": true
   },
   "outputs": [
    {
     "data": {
      "text/html": [
       "<div>\n",
       "<style scoped>\n",
       "    .dataframe tbody tr th:only-of-type {\n",
       "        vertical-align: middle;\n",
       "    }\n",
       "\n",
       "    .dataframe tbody tr th {\n",
       "        vertical-align: top;\n",
       "    }\n",
       "\n",
       "    .dataframe thead th {\n",
       "        text-align: right;\n",
       "    }\n",
       "</style>\n",
       "<table border=\"1\" class=\"dataframe\">\n",
       "  <thead>\n",
       "    <tr style=\"text-align: right;\">\n",
       "      <th></th>\n",
       "      <th>PurchDate</th>\n",
       "      <th>VehYear</th>\n",
       "      <th>VehicleAge</th>\n",
       "      <th>VehOdo</th>\n",
       "      <th>MMRAcquisitionAuctionAveragePrice</th>\n",
       "      <th>MMRAcquisitionAuctionCleanPrice</th>\n",
       "      <th>MMRAcquisitionRetailAveragePrice</th>\n",
       "      <th>MMRAcquisitonRetailCleanPrice</th>\n",
       "      <th>WarrantyCost</th>\n",
       "      <th>WheelTypeID</th>\n",
       "      <th>VNZIP1</th>\n",
       "      <th>IsOnlineSale</th>\n",
       "      <th>Class</th>\n",
       "    </tr>\n",
       "  </thead>\n",
       "  <tbody>\n",
       "    <tr>\n",
       "      <th>count</th>\n",
       "      <td>6.721100e+04</td>\n",
       "      <td>67211.000000</td>\n",
       "      <td>67211.000000</td>\n",
       "      <td>67211.000000</td>\n",
       "      <td>67211.000000</td>\n",
       "      <td>67211.000000</td>\n",
       "      <td>67211.000000</td>\n",
       "      <td>67211.000000</td>\n",
       "      <td>67211.000000</td>\n",
       "      <td>67211.000000</td>\n",
       "      <td>67211.000000</td>\n",
       "      <td>67211.000000</td>\n",
       "      <td>67211.000000</td>\n",
       "    </tr>\n",
       "    <tr>\n",
       "      <th>mean</th>\n",
       "      <td>1.263166e+09</td>\n",
       "      <td>2005.352606</td>\n",
       "      <td>4.168588</td>\n",
       "      <td>71734.558971</td>\n",
       "      <td>6162.054589</td>\n",
       "      <td>7411.975123</td>\n",
       "      <td>8538.503787</td>\n",
       "      <td>9895.922423</td>\n",
       "      <td>1278.942301</td>\n",
       "      <td>1.493386</td>\n",
       "      <td>58272.452768</td>\n",
       "      <td>0.025055</td>\n",
       "      <td>0.095461</td>\n",
       "    </tr>\n",
       "    <tr>\n",
       "      <th>std</th>\n",
       "      <td>1.820779e+07</td>\n",
       "      <td>1.727873</td>\n",
       "      <td>1.707501</td>\n",
       "      <td>14387.245482</td>\n",
       "      <td>2452.884994</td>\n",
       "      <td>2714.884242</td>\n",
       "      <td>3154.090485</td>\n",
       "      <td>3384.033541</td>\n",
       "      <td>579.077788</td>\n",
       "      <td>0.521232</td>\n",
       "      <td>26117.388216</td>\n",
       "      <td>0.156295</td>\n",
       "      <td>0.293852</td>\n",
       "    </tr>\n",
       "    <tr>\n",
       "      <th>min</th>\n",
       "      <td>1.231114e+09</td>\n",
       "      <td>2001.000000</td>\n",
       "      <td>0.000000</td>\n",
       "      <td>5368.000000</td>\n",
       "      <td>0.000000</td>\n",
       "      <td>0.000000</td>\n",
       "      <td>0.000000</td>\n",
       "      <td>0.000000</td>\n",
       "      <td>462.000000</td>\n",
       "      <td>1.000000</td>\n",
       "      <td>2764.000000</td>\n",
       "      <td>0.000000</td>\n",
       "      <td>0.000000</td>\n",
       "    </tr>\n",
       "    <tr>\n",
       "      <th>25%</th>\n",
       "      <td>1.247789e+09</td>\n",
       "      <td>2004.000000</td>\n",
       "      <td>3.000000</td>\n",
       "      <td>62163.000000</td>\n",
       "      <td>4311.000000</td>\n",
       "      <td>5456.500000</td>\n",
       "      <td>6319.000000</td>\n",
       "      <td>7525.500000</td>\n",
       "      <td>853.000000</td>\n",
       "      <td>1.000000</td>\n",
       "      <td>32124.000000</td>\n",
       "      <td>0.000000</td>\n",
       "      <td>0.000000</td>\n",
       "    </tr>\n",
       "    <tr>\n",
       "      <th>50%</th>\n",
       "      <td>1.264032e+09</td>\n",
       "      <td>2005.000000</td>\n",
       "      <td>4.000000</td>\n",
       "      <td>73530.000000</td>\n",
       "      <td>6163.000000</td>\n",
       "      <td>7380.000000</td>\n",
       "      <td>8498.000000</td>\n",
       "      <td>9868.000000</td>\n",
       "      <td>1169.000000</td>\n",
       "      <td>1.000000</td>\n",
       "      <td>74135.000000</td>\n",
       "      <td>0.000000</td>\n",
       "      <td>0.000000</td>\n",
       "    </tr>\n",
       "    <tr>\n",
       "      <th>75%</th>\n",
       "      <td>1.279152e+09</td>\n",
       "      <td>2007.000000</td>\n",
       "      <td>5.000000</td>\n",
       "      <td>82530.000000</td>\n",
       "      <td>7806.000000</td>\n",
       "      <td>9049.000000</td>\n",
       "      <td>10709.500000</td>\n",
       "      <td>12153.500000</td>\n",
       "      <td>1623.000000</td>\n",
       "      <td>2.000000</td>\n",
       "      <td>80022.000000</td>\n",
       "      <td>0.000000</td>\n",
       "      <td>0.000000</td>\n",
       "    </tr>\n",
       "    <tr>\n",
       "      <th>max</th>\n",
       "      <td>1.293667e+09</td>\n",
       "      <td>2010.000000</td>\n",
       "      <td>9.000000</td>\n",
       "      <td>115717.000000</td>\n",
       "      <td>35722.000000</td>\n",
       "      <td>36859.000000</td>\n",
       "      <td>39080.000000</td>\n",
       "      <td>40308.000000</td>\n",
       "      <td>7498.000000</td>\n",
       "      <td>3.000000</td>\n",
       "      <td>99224.000000</td>\n",
       "      <td>1.000000</td>\n",
       "      <td>1.000000</td>\n",
       "    </tr>\n",
       "  </tbody>\n",
       "</table>\n",
       "</div>"
      ],
      "text/plain": [
       "          PurchDate       VehYear    VehicleAge         VehOdo  \\\n",
       "count  6.721100e+04  67211.000000  67211.000000   67211.000000   \n",
       "mean   1.263166e+09   2005.352606      4.168588   71734.558971   \n",
       "std    1.820779e+07      1.727873      1.707501   14387.245482   \n",
       "min    1.231114e+09   2001.000000      0.000000    5368.000000   \n",
       "25%    1.247789e+09   2004.000000      3.000000   62163.000000   \n",
       "50%    1.264032e+09   2005.000000      4.000000   73530.000000   \n",
       "75%    1.279152e+09   2007.000000      5.000000   82530.000000   \n",
       "max    1.293667e+09   2010.000000      9.000000  115717.000000   \n",
       "\n",
       "       MMRAcquisitionAuctionAveragePrice  MMRAcquisitionAuctionCleanPrice  \\\n",
       "count                       67211.000000                     67211.000000   \n",
       "mean                         6162.054589                      7411.975123   \n",
       "std                          2452.884994                      2714.884242   \n",
       "min                             0.000000                         0.000000   \n",
       "25%                          4311.000000                      5456.500000   \n",
       "50%                          6163.000000                      7380.000000   \n",
       "75%                          7806.000000                      9049.000000   \n",
       "max                         35722.000000                     36859.000000   \n",
       "\n",
       "       MMRAcquisitionRetailAveragePrice  MMRAcquisitonRetailCleanPrice  \\\n",
       "count                      67211.000000                   67211.000000   \n",
       "mean                        8538.503787                    9895.922423   \n",
       "std                         3154.090485                    3384.033541   \n",
       "min                            0.000000                       0.000000   \n",
       "25%                         6319.000000                    7525.500000   \n",
       "50%                         8498.000000                    9868.000000   \n",
       "75%                        10709.500000                   12153.500000   \n",
       "max                        39080.000000                   40308.000000   \n",
       "\n",
       "       WarrantyCost   WheelTypeID        VNZIP1  IsOnlineSale         Class  \n",
       "count  67211.000000  67211.000000  67211.000000  67211.000000  67211.000000  \n",
       "mean    1278.942301      1.493386  58272.452768      0.025055      0.095461  \n",
       "std      579.077788      0.521232  26117.388216      0.156295      0.293852  \n",
       "min      462.000000      1.000000   2764.000000      0.000000      0.000000  \n",
       "25%      853.000000      1.000000  32124.000000      0.000000      0.000000  \n",
       "50%     1169.000000      1.000000  74135.000000      0.000000      0.000000  \n",
       "75%     1623.000000      2.000000  80022.000000      0.000000      0.000000  \n",
       "max     7498.000000      3.000000  99224.000000      1.000000      1.000000  "
      ]
     },
     "execution_count": 6,
     "metadata": {},
     "output_type": "execute_result"
    }
   ],
   "source": [
    "car_kick.describe()"
   ]
  },
  {
   "cell_type": "markdown",
   "id": "0318f650",
   "metadata": {},
   "source": [
    "The PurchDate column has numeric date time and epoch values for a date. First we need to convert this column."
   ]
  },
  {
   "cell_type": "code",
   "execution_count": 7,
   "id": "d672049c",
   "metadata": {},
   "outputs": [],
   "source": [
    "car_kick['PurchDate']=pd.to_datetime(car_kick['PurchDate'], unit='s')"
   ]
  },
  {
   "cell_type": "markdown",
   "id": "9def95ef",
   "metadata": {},
   "source": [
    "The other numeric columns seems to not have outliers but we have some 0 values in our price columns which could be considered as missing values."
   ]
  },
  {
   "cell_type": "code",
   "execution_count": 8,
   "id": "22237254",
   "metadata": {},
   "outputs": [
    {
     "data": {
      "text/plain": [
       "2965"
      ]
     },
     "execution_count": 8,
     "metadata": {},
     "output_type": "execute_result"
    }
   ],
   "source": [
    "price_cols=['MMRAcquisitionAuctionAveragePrice', 'MMRAcquisitionAuctionCleanPrice', 'MMRAcquisitionRetailAveragePrice', 'MMRAcquisitonRetailCleanPrice']\n",
    "price_0=pd.DataFrame()\n",
    "for col in price_cols:\n",
    "    df=car_kick[car_kick[col]==0]\n",
    "    price_0=pd.concat([price_0, df])\n",
    "price_0.shape[0]"
   ]
  },
  {
   "cell_type": "code",
   "execution_count": 9,
   "id": "f6e18ab2",
   "metadata": {},
   "outputs": [
    {
     "data": {
      "image/png": "[encoded data removed]",
      "text/plain": [
       "<Figure size 1080x720 with 4 Axes>"
      ]
     },
     "metadata": {
      "needs_background": "light"
     },
     "output_type": "display_data"
    }
   ],
   "source": [
    "price_0[price_cols].hist(figsize=(15, 10))\n",
    "plt.subplots_adjust(hspace=0.5);"
   ]
  },
  {
   "cell_type": "markdown",
   "id": "9736b2ff",
   "metadata": {},
   "source": [
    "So, we have 2965 rows in our dataset that have 0 values in any of price columns, but how many of them have 0 value in all price columns.\n"
   ]
  },
  {
   "cell_type": "code",
   "execution_count": 10,
   "id": "62375aef",
   "metadata": {},
   "outputs": [
    {
     "data": {
      "text/plain": [
       "2596"
      ]
     },
     "execution_count": 10,
     "metadata": {},
     "output_type": "execute_result"
    }
   ],
   "source": [
    "all_0=price_0[(price_0[price_cols]==0).all(axis=1)]\n",
    "all_0.shape[0]"
   ]
  },
  {
   "cell_type": "markdown",
   "id": "86b33eda",
   "metadata": {},
   "source": [
    "2596 of our rows have 0 value in all of the price columns which makes them useless for our future model. Let's drop them.\n"
   ]
  },
  {
   "cell_type": "code",
   "execution_count": 11,
   "id": "5d02daaf",
   "metadata": {},
   "outputs": [],
   "source": [
    "car_kick.drop(index=all_0.index, inplace=True)"
   ]
  },
  {
   "cell_type": "markdown",
   "id": "dda027de",
   "metadata": {},
   "source": [
    "Regarding our numeric columns we can also change the data type for 'VehYear', 'VehOdo' 'WheelTypeID', 'VNZIP1' from float to int.\n"
   ]
  },
  {
   "cell_type": "code",
   "execution_count": 12,
   "id": "3bd720dc",
   "metadata": {},
   "outputs": [],
   "source": [
    "cols_fl=['VehYear', 'VehOdo', 'WheelTypeID', 'VNZIP1']\n",
    "car_kick[cols_fl]=car_kick[cols_fl].astype('int64')"
   ]
  },
  {
   "cell_type": "markdown",
   "id": "484370b7",
   "metadata": {},
   "source": [
    "Now we can take a look at our categorical data.\n"
   ]
  },
  {
   "cell_type": "code",
   "execution_count": 13,
   "id": "b42d24c6",
   "metadata": {},
   "outputs": [
    {
     "data": {
      "text/plain": [
       "MANHEIM    0.576906\n",
       "OTHER      0.234729\n",
       "ADESA      0.188366\n",
       "Name: Auction, dtype: float64"
      ]
     },
     "execution_count": 13,
     "metadata": {},
     "output_type": "execute_result"
    }
   ],
   "source": [
    "car_kick['Auction'].value_counts(normalize=True)"
   ]
  },
  {
   "cell_type": "markdown",
   "id": "1db58686",
   "metadata": {},
   "source": [
    "The 'Auction' column shows the names of the auctions where cars were sold. We have 2 main companies - Manheim and Adesa.\n"
   ]
  },
  {
   "cell_type": "code",
   "execution_count": 14,
   "id": "6dfc9c80",
   "metadata": {},
   "outputs": [],
   "source": [
    "car_kick['Auction']=car_kick['Auction'].str.title()"
   ]
  },
  {
   "cell_type": "markdown",
   "id": "d3f4df6d",
   "metadata": {},
   "source": [
    "Next, we have car makes."
   ]
  },
  {
   "cell_type": "code",
   "execution_count": 15,
   "id": "ad18d914",
   "metadata": {},
   "outputs": [
    {
     "data": {
      "text/plain": [
       "CHEVROLET         16375\n",
       "DODGE             12304\n",
       "FORD              10576\n",
       "CHRYSLER           8028\n",
       "PONTIAC            3743\n",
       "KIA                2224\n",
       "NISSAN             1948\n",
       "HYUNDAI            1703\n",
       "SATURN             1669\n",
       "JEEP               1546\n",
       "TOYOTA             1084\n",
       "MITSUBISHI          955\n",
       "MAZDA               875\n",
       "MERCURY             789\n",
       "BUICK               675\n",
       "GMC                 608\n",
       "HONDA               460\n",
       "SUZUKI              272\n",
       "OLDSMOBILE          221\n",
       "ISUZU               128\n",
       "VOLKSWAGEN          118\n",
       "SCION               103\n",
       "VOLVO                36\n",
       "LINCOLN              30\n",
       "MINI                 24\n",
       "SUBARU               24\n",
       "ACURA                23\n",
       "CADILLAC             14\n",
       "INFINITI              3\n",
       "PLYMOUTH              2\n",
       "'TOYOTA SCION'        1\n",
       "LEXUS                 1\n",
       "Name: Make, dtype: int64"
      ]
     },
     "execution_count": 15,
     "metadata": {},
     "output_type": "execute_result"
    }
   ],
   "source": [
    "car_kick['Make'].value_counts()"
   ]
  },
  {
   "cell_type": "markdown",
   "id": "4dc776e7",
   "metadata": {},
   "source": [
    "The only problem here is the 'TOYOTA SCION' value which should be either Toyota or Scion\n"
   ]
  },
  {
   "cell_type": "code",
   "execution_count": 16,
   "id": "71ac1c27",
   "metadata": {},
   "outputs": [],
   "source": [
    "car_kick['Make']=car_kick['Make'].str.replace(\"'TOYOTA SCION'\", \"Scion\")\n",
    "car_kick['Make']=car_kick['Make'].str.title()"
   ]
  },
  {
   "cell_type": "code",
   "execution_count": 17,
   "id": "83332734",
   "metadata": {},
   "outputs": [
    {
     "data": {
      "text/plain": [
       "'PT CRUISER'              2180\n",
       "IMPALA                    1907\n",
       "TAURUS                    1346\n",
       "CALIBER                   1264\n",
       "'CARAVAN GRAND FWD V6'    1227\n",
       "                          ... \n",
       "'EXCURSION 4WD V8 5.4'       1\n",
       "'ARMADA 2WD V8'              1\n",
       "'PROTEGE MFI I-4 1.6L'       1\n",
       "'CAMRY 4C EI I-4 2.2L'       1\n",
       "'ENVOY XL 4WD V8 5.3L'       1\n",
       "Name: Model, Length: 947, dtype: int64"
      ]
     },
     "execution_count": 17,
     "metadata": {},
     "output_type": "execute_result"
    }
   ],
   "source": [
    "car_kick['Model'].value_counts()"
   ]
  },
  {
   "cell_type": "markdown",
   "id": "8d7b3333",
   "metadata": {},
   "source": [
    "For models we have 953 unique values, but we can clean it by deleting the quotation marks and keeping the first two words of the model (the names of the cars usually are not longer than two words). And in order to eliminate the the additional information from the second word of the model name we can set a minimum limit of 4 characters in that word."
   ]
  },
  {
   "cell_type": "code",
   "execution_count": 18,
   "id": "9aeabfed",
   "metadata": {},
   "outputs": [
    {
     "name": "stdout",
     "output_type": "stream",
     "text": [
      "                a               b\n",
      "0         Stratus              V6\n",
      "1          Taurus     3.0L V6 Efi\n",
      "2           Grand  Prix 3.8L V6 S\n",
      "3          Impala              V6\n",
      "4          Impala            None\n",
      "...           ...             ...\n",
      "67206          Pt         Cruiser\n",
      "67207  Pathfinder          2Wd V6\n",
      "67208       Grand           Am 4C\n",
      "67209  Rendezvous             Fwd\n",
      "67210      Mazda6            None\n",
      "\n",
      "[66562 rows x 2 columns]\n"
     ]
    }
   ],
   "source": [
    "car_kick['Model']=car_kick['Model'].str.replace(\"'\", \"\")\n",
    "car_kick['Model']=car_kick['Model'].str.title()\n",
    "models = car_kick['Model'].str.split(expand=True, n=1)\n",
    "models.columns=['a', 'b']\n",
    "print(models)"
   ]
  },
  {
   "cell_type": "code",
   "execution_count": 19,
   "id": "a29aa0ba",
   "metadata": {},
   "outputs": [
    {
     "name": "stdout",
     "output_type": "stream",
     "text": [
      "                a               b            c\n",
      "0         Stratus              V6      Stratus\n",
      "1          Taurus     3.0L V6 Efi  Taurus 3.0L\n",
      "2           Grand  Prix 3.8L V6 S   Grand Prix\n",
      "3          Impala              V6       Impala\n",
      "4          Impala            None       Impala\n",
      "...           ...             ...          ...\n",
      "67206          Pt         Cruiser   Pt Cruiser\n",
      "67207  Pathfinder          2Wd V6   Pathfinder\n",
      "67208       Grand           Am 4C        Grand\n",
      "67209  Rendezvous             Fwd   Rendezvous\n",
      "67210      Mazda6            None       Mazda6\n",
      "\n",
      "[66562 rows x 3 columns]\n"
     ]
    }
   ],
   "source": [
    "models['c']=models.apply(lambda x: (x['a'] if x['b'] is None or len(x['b'].split()[0])<4 else x['a']+ ' ' + x['b'].split()[0]), axis=1)\n",
    "print(models)"
   ]
  },
  {
   "cell_type": "code",
   "execution_count": 20,
   "id": "cfdd5862",
   "metadata": {},
   "outputs": [
    {
     "data": {
      "text/plain": [
       "Pt Cruiser         3503\n",
       "Impala             3177\n",
       "Malibu             2879\n",
       "Stratus            2446\n",
       "Sebring            2334\n",
       "                   ... \n",
       "Torrent               1\n",
       "Concorde 3.2L         1\n",
       "Azera 3.8L            1\n",
       "Altima Multiple       1\n",
       "Sedona 3.5L           1\n",
       "Name: Model, Length: 321, dtype: int64"
      ]
     },
     "execution_count": 20,
     "metadata": {},
     "output_type": "execute_result"
    }
   ],
   "source": [
    "car_kick['Model']=models['c']\n",
    "car_kick['Model'].value_counts()"
   ]
  },
  {
   "cell_type": "markdown",
   "id": "72303e82",
   "metadata": {},
   "source": [
    "Now we have 321 unique values in 'Models' column and we saved the rest of the information in the models dataframe in case we need them for our future analysis."
   ]
  },
  {
   "cell_type": "code",
   "execution_count": 21,
   "id": "41e16929",
   "metadata": {},
   "outputs": [
    {
     "data": {
      "text/plain": [
       "Bas    13158\n",
       "Ls      9652\n",
       "Se      8791\n",
       "Sxt     3684\n",
       "Lt      3398\n",
       "       ...  \n",
       "Har        1\n",
       "Dur        1\n",
       "Ll         1\n",
       "Ult        1\n",
       "Jls        1\n",
       "Name: Trim, Length: 132, dtype: int64"
      ]
     },
     "execution_count": 21,
     "metadata": {},
     "output_type": "execute_result"
    }
   ],
   "source": [
    "car_kick['Trim']=car_kick['Trim'].str.title()\n",
    "car_kick['Trim'].value_counts()"
   ]
  },
  {
   "cell_type": "markdown",
   "id": "a6d06d0b",
   "metadata": {},
   "source": [
    "For the 'Trim' column the most common value is 'Bas' which stands for 'Basic' or 'Base' and in order to check if that's#the only value that has that meaning we can find all the values that contain 'Ba' letters."
   ]
  },
  {
   "cell_type": "code",
   "execution_count": 22,
   "id": "47b4dd04",
   "metadata": {},
   "outputs": [
    {
     "data": {
      "text/plain": [
       "Bas    13158\n",
       "Name: Trim, dtype: int64"
      ]
     },
     "execution_count": 22,
     "metadata": {},
     "output_type": "execute_result"
    }
   ],
   "source": [
    "car_kick[car_kick['Trim'].str.contains('Ba')]['Trim'].value_counts()"
   ]
  },
  {
   "cell_type": "code",
   "execution_count": 23,
   "id": "40f5bdcc",
   "metadata": {},
   "outputs": [
    {
     "data": {
      "text/plain": [
       "'4D SEDAN'               13298\n",
       "'4D SEDAN LS'             4523\n",
       "'4D SEDAN SE'             3632\n",
       "'4D WAGON'                1946\n",
       "'MINIVAN 3.3L'            1186\n",
       "                         ...  \n",
       "'EXT CAB 3.3L XE'            1\n",
       "'2D COUPE ZX3 SES'           1\n",
       "'4D EXT CAB 3.0L'            1\n",
       "UTILITY                      1\n",
       "'4D SEDAN LUXURY AWD'        1\n",
       "Name: SubModel, Length: 807, dtype: int64"
      ]
     },
     "execution_count": 23,
     "metadata": {},
     "output_type": "execute_result"
    }
   ],
   "source": [
    "car_kick['SubModel'].value_counts()"
   ]
  },
  {
   "cell_type": "markdown",
   "id": "ff63987a",
   "metadata": {},
   "source": [
    "The 'Submodel' column shows the body style and the trim information which was also mentioned in 'Trim' column. Therefore we could limit the string of the column to 2 words in order to keep mainly the body style information but for now we can just delete the quotation marks and capitalize it, because we might need extra information for our analysis."
   ]
  },
  {
   "cell_type": "code",
   "execution_count": 24,
   "id": "6777c3f4",
   "metadata": {},
   "outputs": [],
   "source": [
    "car_kick['SubModel']=car_kick['SubModel'].str.replace(\"'\", \"\").str.title()"
   ]
  },
  {
   "cell_type": "code",
   "execution_count": 25,
   "id": "4ca14f9e",
   "metadata": {},
   "outputs": [
    {
     "data": {
      "text/plain": [
       "SILVER         13552\n",
       "WHITE          11152\n",
       "BLUE            9424\n",
       "GREY            7363\n",
       "BLACK           6907\n",
       "RED             5626\n",
       "GOLD            4720\n",
       "GREEN           2932\n",
       "MAROON          1865\n",
       "BEIGE           1421\n",
       "BROWN            413\n",
       "ORANGE           376\n",
       "PURPLE           344\n",
       "YELLOW           232\n",
       "OTHER            175\n",
       "'NOT AVAIL'       60\n",
       "Name: Color, dtype: int64"
      ]
     },
     "execution_count": 25,
     "metadata": {},
     "output_type": "execute_result"
    }
   ],
   "source": [
    "car_kick['Color'].value_counts()"
   ]
  },
  {
   "cell_type": "markdown",
   "id": "8d9813ae",
   "metadata": {},
   "source": [
    "For the 'Color' column we mostly have clean data, only 60 of the cars have missing values"
   ]
  },
  {
   "cell_type": "code",
   "execution_count": 26,
   "id": "07ec9f20",
   "metadata": {},
   "outputs": [],
   "source": [
    "car_kick['Color']=car_kick['Color'].str.title().str.replace(\"'\", \"\")"
   ]
  },
  {
   "cell_type": "code",
   "execution_count": 27,
   "id": "b660559b",
   "metadata": {},
   "outputs": [
    {
     "data": {
      "text/plain": [
       "GM          23305\n",
       "CHRYSLER    21880\n",
       "FORD        11395\n",
       "OTHER        9982\n",
       "Name: TopThreeAmericanName, dtype: int64"
      ]
     },
     "execution_count": 27,
     "metadata": {},
     "output_type": "execute_result"
    }
   ],
   "source": [
    "car_kick['TopThreeAmericanName'].value_counts()"
   ]
  },
  {
   "cell_type": "code",
   "execution_count": 28,
   "id": "eb8db540",
   "metadata": {},
   "outputs": [
    {
     "data": {
      "text/plain": [
       "AUTO      64253\n",
       "MANUAL     2308\n",
       "Manual        1\n",
       "Name: Transmission, dtype: int64"
      ]
     },
     "execution_count": 28,
     "metadata": {},
     "output_type": "execute_result"
    }
   ],
   "source": [
    "car_kick['Transmission'].value_counts()"
   ]
  },
  {
   "cell_type": "code",
   "execution_count": 29,
   "id": "ecd311b7",
   "metadata": {
    "scrolled": true
   },
   "outputs": [
    {
     "data": {
      "text/plain": [
       "Alloy      34466\n",
       "Covers     31371\n",
       "Special      725\n",
       "Name: WheelType, dtype: int64"
      ]
     },
     "execution_count": 29,
     "metadata": {},
     "output_type": "execute_result"
    }
   ],
   "source": [
    "car_kick['WheelType'].value_counts()"
   ]
  },
  {
   "cell_type": "markdown",
   "id": "663d45e8",
   "metadata": {},
   "source": [
    "For the three columns above we have clean data. But in our dataset we have 2 columns representing the wheel types: 'WheelType' and 'WheelTypeID'. The types of the wheels are just replace with int values as you can see from the table below."
   ]
  },
  {
   "cell_type": "code",
   "execution_count": 30,
   "id": "67c330ed",
   "metadata": {},
   "outputs": [
    {
     "data": {
      "text/plain": [
       "WheelType\n",
       "Alloy      1.0\n",
       "Covers     2.0\n",
       "Special    3.0\n",
       "Name: WheelTypeID, dtype: float64"
      ]
     },
     "execution_count": 30,
     "metadata": {},
     "output_type": "execute_result"
    }
   ],
   "source": [
    "car_kick.groupby('WheelType')['WheelTypeID'].mean()"
   ]
  },
  {
   "cell_type": "code",
   "execution_count": 31,
   "id": "e31437f1",
   "metadata": {},
   "outputs": [],
   "source": [
    "cols_1=['TopThreeAmericanName', 'Transmission', 'WheelType']\n",
    "for col in cols_1:\n",
    "    car_kick[col]=car_kick[col].str.title()"
   ]
  },
  {
   "cell_type": "code",
   "execution_count": 32,
   "id": "9fba2dfd",
   "metadata": {},
   "outputs": [
    {
     "data": {
      "text/plain": [
       "AMERICAN            56580\n",
       "'OTHER ASIAN'        6316\n",
       "'TOP LINE ASIAN'     3488\n",
       "OTHER                 178\n",
       "Name: Nationality, dtype: int64"
      ]
     },
     "execution_count": 32,
     "metadata": {},
     "output_type": "execute_result"
    }
   ],
   "source": [
    "car_kick['Nationality'].value_counts()"
   ]
  },
  {
   "cell_type": "code",
   "execution_count": 33,
   "id": "9c138360",
   "metadata": {},
   "outputs": [
    {
     "data": {
      "text/plain": [
       "MEDIUM           28131\n",
       "LARGE             8410\n",
       "'MEDIUM SUV'      7109\n",
       "COMPACT           6509\n",
       "VAN               5308\n",
       "'LARGE TRUCK'     2959\n",
       "'SMALL SUV'       2148\n",
       "SPECIALTY         1743\n",
       "CROSSOVER         1398\n",
       "'LARGE SUV'       1334\n",
       "'SMALL TRUCK'      790\n",
       "SPORTS             723\n",
       "Name: Size, dtype: int64"
      ]
     },
     "execution_count": 33,
     "metadata": {},
     "output_type": "execute_result"
    }
   ],
   "source": [
    "car_kick['Size'].value_counts()"
   ]
  },
  {
   "cell_type": "markdown",
   "id": "14e653a8",
   "metadata": {},
   "source": [
    "And for the 'Nationality' and 'Size' columns some of the values have the quotation marks"
   ]
  },
  {
   "cell_type": "code",
   "execution_count": 34,
   "id": "62d8bebf",
   "metadata": {},
   "outputs": [],
   "source": [
    "cols_2=['Nationality', 'Size']\n",
    "for col in cols_2:\n",
    "    car_kick[col]=car_kick[col].str.replace(\"'\", \"\").str.title()"
   ]
  },
  {
   "cell_type": "code",
   "execution_count": 35,
   "id": "5a580985",
   "metadata": {},
   "outputs": [
    {
     "data": {
      "text/plain": [
       "TX    12655\n",
       "FL     9569\n",
       "CA     6402\n",
       "NC     6225\n",
       "AZ     5763\n",
       "CO     4634\n",
       "SC     3720\n",
       "OK     3260\n",
       "GA     2193\n",
       "VA     1546\n",
       "TN     1536\n",
       "MD     1070\n",
       "UT      795\n",
       "PA      785\n",
       "OH      742\n",
       "MO      731\n",
       "AL      630\n",
       "NV      501\n",
       "MS      480\n",
       "IN      442\n",
       "IL      426\n",
       "IA      426\n",
       "NJ      312\n",
       "LA      311\n",
       "WV      242\n",
       "NM      217\n",
       "KY      201\n",
       "OR      187\n",
       "ID      172\n",
       "WA      129\n",
       "NH       86\n",
       "MN       61\n",
       "AR       55\n",
       "NE       26\n",
       "MA       13\n",
       "MI       13\n",
       "NY        6\n",
       "Name: VNST, dtype: int64"
      ]
     },
     "execution_count": 35,
     "metadata": {},
     "output_type": "execute_result"
    }
   ],
   "source": [
    "car_kick['VNST'].value_counts()"
   ]
  },
  {
   "cell_type": "markdown",
   "id": "5c8efbfa",
   "metadata": {},
   "source": [
    "The 'VNST' column shows which state the navigation system was in. So basically it can show us in which state the car was driven before being sold on auction."
   ]
  },
  {
   "cell_type": "markdown",
   "id": "c79f3fe9",
   "metadata": {},
   "source": [
    "The last 2 columns are 'IsOnlineSale' and 'Class'. The first one shows whether the auction was online or not and the second one is the target column for our future model which shows whether the car is a 'kick' or not."
   ]
  },
  {
   "cell_type": "markdown",
   "id": "ec638e0a",
   "metadata": {},
   "source": [
    "Now we can take a look at duplicate data. If we consider all the columns for identifying duplicates, we don't have any. But if we use a subset of columns we would find 2 pairs of duplicate rows."
   ]
  },
  {
   "cell_type": "code",
   "execution_count": 36,
   "id": "82e1cf11",
   "metadata": {
    "scrolled": true
   },
   "outputs": [
    {
     "name": "stdout",
     "output_type": "stream",
     "text": [
      "Empty DataFrame\n",
      "Columns: [PurchDate, VehYear, VehicleAge, VehOdo, MMRAcquisitionAuctionAveragePrice, MMRAcquisitionAuctionCleanPrice, MMRAcquisitionRetailAveragePrice, MMRAcquisitonRetailCleanPrice, WarrantyCost, Auction, Make, Model, Trim, SubModel, Color, Transmission, WheelTypeID, WheelType, Nationality, Size, TopThreeAmericanName, VNZIP1, VNST, IsOnlineSale, Class]\n",
      "Index: []\n",
      "\n",
      "[0 rows x 25 columns]\n"
     ]
    }
   ],
   "source": [
    "car_dup=car_kick.duplicated()\n",
    "print(car_kick[car_dup])"
   ]
  },
  {
   "cell_type": "code",
   "execution_count": 37,
   "id": "abcbbd48",
   "metadata": {},
   "outputs": [
    {
     "name": "stdout",
     "output_type": "stream",
     "text": [
      "       PurchDate  VehYear  VehicleAge  VehOdo  \\\n",
      "4640  2009-06-18     2006           3   57626   \n",
      "46534 2009-01-20     2004           5   92005   \n",
      "49804 2009-05-21     2006           3   57626   \n",
      "67199 2009-01-20     2004           5   92005   \n",
      "\n",
      "       MMRAcquisitionAuctionAveragePrice  MMRAcquisitionAuctionCleanPrice  \\\n",
      "4640                              5480.0                           6461.0   \n",
      "46534                                0.0                              1.0   \n",
      "49804                             5480.0                           6461.0   \n",
      "67199                                0.0                              1.0   \n",
      "\n",
      "       MMRAcquisitionRetailAveragePrice  MMRAcquisitonRetailCleanPrice  \\\n",
      "4640                             6418.0                         7478.0   \n",
      "46534                               0.0                            0.0   \n",
      "49804                            6418.0                         7478.0   \n",
      "67199                               0.0                            0.0   \n",
      "\n",
      "       WarrantyCost  Auction  ... Transmission WheelTypeID WheelType  \\\n",
      "4640         1086.0  Manheim  ...         Auto           2    Covers   \n",
      "46534        1485.0    Other  ...         Auto           1     Alloy   \n",
      "49804        1086.0  Manheim  ...         Auto           2    Covers   \n",
      "67199        1485.0    Other  ...         Auto           3   Special   \n",
      "\n",
      "      Nationality    Size TopThreeAmericanName  VNZIP1 VNST IsOnlineSale Class  \n",
      "4640     American  Medium             Chrysler   76040   TX            0     0  \n",
      "46534    American  Medium             Chrysler   75061   TX            0     1  \n",
      "49804    American  Medium             Chrysler   76040   TX            0     0  \n",
      "67199    American  Medium             Chrysler   75061   TX            0     1  \n",
      "\n",
      "[4 rows x 25 columns]\n"
     ]
    }
   ],
   "source": [
    "subset_1=['VehYear', 'VehOdo', 'Make', 'Model', 'VNZIP1', 'Color', 'MMRAcquisitionAuctionCleanPrice']\n",
    "car_dup_2=car_kick.duplicated(subset=subset_1, keep=False)\n",
    "print(car_kick[car_dup_2])"
   ]
  },
  {
   "cell_type": "markdown",
   "id": "399e9d0d",
   "metadata": {},
   "source": [
    "If we don't consider the auction price as a identifying column we can find 7 more pairs of duplicate data, but the different auction prices and date values make clear that the same cars were sold twice on auctions. Now we can drop those two duplicate rows from our dataset."
   ]
  },
  {
   "cell_type": "code",
   "execution_count": 41,
   "id": "b79a4f97",
   "metadata": {},
   "outputs": [],
   "source": [
    "car_kick.drop_duplicates(subset=subset_1, inplace=True)"
   ]
  },
  {
   "cell_type": "code",
   "execution_count": 42,
   "id": "9d719c8c",
   "metadata": {},
   "outputs": [
    {
     "data": {
      "text/html": [
       "<div>\n",
       "<style scoped>\n",
       "    .dataframe tbody tr th:only-of-type {\n",
       "        vertical-align: middle;\n",
       "    }\n",
       "\n",
       "    .dataframe tbody tr th {\n",
       "        vertical-align: top;\n",
       "    }\n",
       "\n",
       "    .dataframe thead th {\n",
       "        text-align: right;\n",
       "    }\n",
       "</style>\n",
       "<table border=\"1\" class=\"dataframe\">\n",
       "  <thead>\n",
       "    <tr style=\"text-align: right;\">\n",
       "      <th></th>\n",
       "      <th>PurchDate</th>\n",
       "      <th>VehYear</th>\n",
       "      <th>VehicleAge</th>\n",
       "      <th>VehOdo</th>\n",
       "      <th>MMRAcquisitionAuctionAveragePrice</th>\n",
       "      <th>MMRAcquisitionAuctionCleanPrice</th>\n",
       "      <th>MMRAcquisitionRetailAveragePrice</th>\n",
       "      <th>MMRAcquisitonRetailCleanPrice</th>\n",
       "      <th>WarrantyCost</th>\n",
       "      <th>Auction</th>\n",
       "      <th>...</th>\n",
       "      <th>Transmission</th>\n",
       "      <th>WheelTypeID</th>\n",
       "      <th>WheelType</th>\n",
       "      <th>Nationality</th>\n",
       "      <th>Size</th>\n",
       "      <th>TopThreeAmericanName</th>\n",
       "      <th>VNZIP1</th>\n",
       "      <th>VNST</th>\n",
       "      <th>IsOnlineSale</th>\n",
       "      <th>Class</th>\n",
       "    </tr>\n",
       "  </thead>\n",
       "  <tbody>\n",
       "    <tr>\n",
       "      <th>0</th>\n",
       "      <td>2010-11-17</td>\n",
       "      <td>2006</td>\n",
       "      <td>4</td>\n",
       "      <td>51954</td>\n",
       "      <td>6197.0</td>\n",
       "      <td>7062.0</td>\n",
       "      <td>9605.0</td>\n",
       "      <td>10426.0</td>\n",
       "      <td>1086.0</td>\n",
       "      <td>Manheim</td>\n",
       "      <td>...</td>\n",
       "      <td>Auto</td>\n",
       "      <td>2</td>\n",
       "      <td>Covers</td>\n",
       "      <td>American</td>\n",
       "      <td>Medium</td>\n",
       "      <td>Chrysler</td>\n",
       "      <td>32124</td>\n",
       "      <td>FL</td>\n",
       "      <td>0</td>\n",
       "      <td>0</td>\n",
       "    </tr>\n",
       "    <tr>\n",
       "      <th>1</th>\n",
       "      <td>2009-05-19</td>\n",
       "      <td>2005</td>\n",
       "      <td>4</td>\n",
       "      <td>89127</td>\n",
       "      <td>3688.0</td>\n",
       "      <td>4783.0</td>\n",
       "      <td>4483.0</td>\n",
       "      <td>5666.0</td>\n",
       "      <td>983.0</td>\n",
       "      <td>Adesa</td>\n",
       "      <td>...</td>\n",
       "      <td>Auto</td>\n",
       "      <td>2</td>\n",
       "      <td>Covers</td>\n",
       "      <td>American</td>\n",
       "      <td>Medium</td>\n",
       "      <td>Ford</td>\n",
       "      <td>78754</td>\n",
       "      <td>TX</td>\n",
       "      <td>0</td>\n",
       "      <td>0</td>\n",
       "    </tr>\n",
       "    <tr>\n",
       "      <th>2</th>\n",
       "      <td>2009-07-22</td>\n",
       "      <td>2006</td>\n",
       "      <td>3</td>\n",
       "      <td>71271</td>\n",
       "      <td>6897.0</td>\n",
       "      <td>8449.0</td>\n",
       "      <td>7949.0</td>\n",
       "      <td>9625.0</td>\n",
       "      <td>1974.0</td>\n",
       "      <td>Manheim</td>\n",
       "      <td>...</td>\n",
       "      <td>Auto</td>\n",
       "      <td>1</td>\n",
       "      <td>Alloy</td>\n",
       "      <td>American</td>\n",
       "      <td>Large</td>\n",
       "      <td>Gm</td>\n",
       "      <td>80011</td>\n",
       "      <td>CO</td>\n",
       "      <td>0</td>\n",
       "      <td>0</td>\n",
       "    </tr>\n",
       "    <tr>\n",
       "      <th>3</th>\n",
       "      <td>2010-09-29</td>\n",
       "      <td>2008</td>\n",
       "      <td>2</td>\n",
       "      <td>83338</td>\n",
       "      <td>7878.0</td>\n",
       "      <td>8925.0</td>\n",
       "      <td>11723.0</td>\n",
       "      <td>13026.0</td>\n",
       "      <td>2152.0</td>\n",
       "      <td>Manheim</td>\n",
       "      <td>...</td>\n",
       "      <td>Auto</td>\n",
       "      <td>2</td>\n",
       "      <td>Covers</td>\n",
       "      <td>American</td>\n",
       "      <td>Large</td>\n",
       "      <td>Gm</td>\n",
       "      <td>94544</td>\n",
       "      <td>CA</td>\n",
       "      <td>0</td>\n",
       "      <td>0</td>\n",
       "    </tr>\n",
       "    <tr>\n",
       "      <th>4</th>\n",
       "      <td>2009-03-18</td>\n",
       "      <td>2007</td>\n",
       "      <td>2</td>\n",
       "      <td>58698</td>\n",
       "      <td>8800.0</td>\n",
       "      <td>10091.0</td>\n",
       "      <td>10004.0</td>\n",
       "      <td>11398.0</td>\n",
       "      <td>1500.0</td>\n",
       "      <td>Adesa</td>\n",
       "      <td>...</td>\n",
       "      <td>Auto</td>\n",
       "      <td>1</td>\n",
       "      <td>Alloy</td>\n",
       "      <td>American</td>\n",
       "      <td>Large</td>\n",
       "      <td>Gm</td>\n",
       "      <td>77086</td>\n",
       "      <td>TX</td>\n",
       "      <td>0</td>\n",
       "      <td>0</td>\n",
       "    </tr>\n",
       "  </tbody>\n",
       "</table>\n",
       "<p>5 rows × 25 columns</p>\n",
       "</div>"
      ],
      "text/plain": [
       "   PurchDate  VehYear  VehicleAge  VehOdo  MMRAcquisitionAuctionAveragePrice  \\\n",
       "0 2010-11-17     2006           4   51954                             6197.0   \n",
       "1 2009-05-19     2005           4   89127                             3688.0   \n",
       "2 2009-07-22     2006           3   71271                             6897.0   \n",
       "3 2010-09-29     2008           2   83338                             7878.0   \n",
       "4 2009-03-18     2007           2   58698                             8800.0   \n",
       "\n",
       "   MMRAcquisitionAuctionCleanPrice  MMRAcquisitionRetailAveragePrice  \\\n",
       "0                           7062.0                            9605.0   \n",
       "1                           4783.0                            4483.0   \n",
       "2                           8449.0                            7949.0   \n",
       "3                           8925.0                           11723.0   \n",
       "4                          10091.0                           10004.0   \n",
       "\n",
       "   MMRAcquisitonRetailCleanPrice  WarrantyCost  Auction  ... Transmission  \\\n",
       "0                        10426.0        1086.0  Manheim  ...         Auto   \n",
       "1                         5666.0         983.0    Adesa  ...         Auto   \n",
       "2                         9625.0        1974.0  Manheim  ...         Auto   \n",
       "3                        13026.0        2152.0  Manheim  ...         Auto   \n",
       "4                        11398.0        1500.0    Adesa  ...         Auto   \n",
       "\n",
       "  WheelTypeID WheelType Nationality    Size TopThreeAmericanName  VNZIP1 VNST  \\\n",
       "0           2    Covers    American  Medium             Chrysler   32124   FL   \n",
       "1           2    Covers    American  Medium                 Ford   78754   TX   \n",
       "2           1     Alloy    American   Large                   Gm   80011   CO   \n",
       "3           2    Covers    American   Large                   Gm   94544   CA   \n",
       "4           1     Alloy    American   Large                   Gm   77086   TX   \n",
       "\n",
       "  IsOnlineSale Class  \n",
       "0            0     0  \n",
       "1            0     0  \n",
       "2            0     0  \n",
       "3            0     0  \n",
       "4            0     0  \n",
       "\n",
       "[5 rows x 25 columns]"
      ]
     },
     "execution_count": 42,
     "metadata": {},
     "output_type": "execute_result"
    }
   ],
   "source": [
    "car_kick.head()"
   ]
  },
  {
   "cell_type": "code",
   "execution_count": 44,
   "id": "a9b598f2",
   "metadata": {},
   "outputs": [],
   "source": [
    "car_kick.to_csv('car_kick2.csv', index=False)"
   ]
  }
 ],
 "metadata": {
  "kernelspec": {
   "display_name": "Python 3 (ipykernel)",
   "language": "python",
   "name": "python3"
  },
  "language_info": {
   "codemirror_mode": {
    "name": "ipython",
    "version": 3
   },
   "file_extension": ".py",
   "mimetype": "text/x-python",
   "name": "python",
   "nbconvert_exporter": "python",
   "pygments_lexer": "ipython3",
   "version": "3.9.12"
  }
 },
 "nbformat": 4,
 "nbformat_minor": 5
}
