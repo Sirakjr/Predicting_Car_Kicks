{
 "cells": [
  {
   "cell_type": "markdown",
   "id": "895efb57",
   "metadata": {},
   "source": [
    "First of all, we need to import the libraries we need and the load the scaled dataset from the previous notebook."
   ]
  },
  {
   "cell_type": "code",
   "execution_count": 19,
   "id": "318514d8",
   "metadata": {},
   "outputs": [],
   "source": [
    "import pandas as pd\n",
    "import numpy as np\n",
    "import matplotlib.pyplot as plt\n",
    "import seaborn as sns\n",
    "from sklearn.model_selection import train_test_split\n",
    "from sklearn.model_selection import KFold\n",
    "from sklearn.linear_model import LogisticRegression\n",
    "from sklearn import metrics\n",
    "from sklearn.model_selection import GridSearchCV\n",
    "from sklearn.tree import DecisionTreeClassifier, plot_tree"
   ]
  },
  {
   "cell_type": "code",
   "execution_count": 2,
   "id": "dc7d856e",
   "metadata": {},
   "outputs": [
    {
     "data": {
      "text/html": [
       "<div>\n",
       "<style scoped>\n",
       "    .dataframe tbody tr th:only-of-type {\n",
       "        vertical-align: middle;\n",
       "    }\n",
       "\n",
       "    .dataframe tbody tr th {\n",
       "        vertical-align: top;\n",
       "    }\n",
       "\n",
       "    .dataframe thead th {\n",
       "        text-align: right;\n",
       "    }\n",
       "</style>\n",
       "<table border=\"1\" class=\"dataframe\">\n",
       "  <thead>\n",
       "    <tr style=\"text-align: right;\">\n",
       "      <th></th>\n",
       "      <th>Age</th>\n",
       "      <th>Mileage</th>\n",
       "      <th>Price</th>\n",
       "      <th>WarrantyCost</th>\n",
       "      <th>price_ratio</th>\n",
       "      <th>IsOnlineSale</th>\n",
       "      <th>Class</th>\n",
       "      <th>Auction_Adesa</th>\n",
       "      <th>Auction_Manheim</th>\n",
       "      <th>Auction_Other</th>\n",
       "      <th>...</th>\n",
       "      <th>State_OK</th>\n",
       "      <th>State_OR</th>\n",
       "      <th>State_PA</th>\n",
       "      <th>State_SC</th>\n",
       "      <th>State_TN</th>\n",
       "      <th>State_TX</th>\n",
       "      <th>State_UT</th>\n",
       "      <th>State_VA</th>\n",
       "      <th>State_WA</th>\n",
       "      <th>State_WV</th>\n",
       "    </tr>\n",
       "  </thead>\n",
       "  <tbody>\n",
       "    <tr>\n",
       "      <th>0</th>\n",
       "      <td>-0.099151</td>\n",
       "      <td>-1.375443</td>\n",
       "      <td>-0.167113</td>\n",
       "      <td>-0.333637</td>\n",
       "      <td>-0.641444</td>\n",
       "      <td>0</td>\n",
       "      <td>0</td>\n",
       "      <td>0</td>\n",
       "      <td>1</td>\n",
       "      <td>0</td>\n",
       "      <td>...</td>\n",
       "      <td>0</td>\n",
       "      <td>0</td>\n",
       "      <td>0</td>\n",
       "      <td>0</td>\n",
       "      <td>0</td>\n",
       "      <td>0</td>\n",
       "      <td>0</td>\n",
       "      <td>0</td>\n",
       "      <td>0</td>\n",
       "      <td>0</td>\n",
       "    </tr>\n",
       "    <tr>\n",
       "      <th>1</th>\n",
       "      <td>-0.099151</td>\n",
       "      <td>1.209000</td>\n",
       "      <td>-1.040398</td>\n",
       "      <td>-0.512020</td>\n",
       "      <td>0.768570</td>\n",
       "      <td>0</td>\n",
       "      <td>0</td>\n",
       "      <td>1</td>\n",
       "      <td>0</td>\n",
       "      <td>0</td>\n",
       "      <td>...</td>\n",
       "      <td>0</td>\n",
       "      <td>0</td>\n",
       "      <td>0</td>\n",
       "      <td>0</td>\n",
       "      <td>0</td>\n",
       "      <td>1</td>\n",
       "      <td>0</td>\n",
       "      <td>0</td>\n",
       "      <td>0</td>\n",
       "      <td>0</td>\n",
       "    </tr>\n",
       "    <tr>\n",
       "      <th>2</th>\n",
       "      <td>-0.684799</td>\n",
       "      <td>-0.032433</td>\n",
       "      <td>0.364368</td>\n",
       "      <td>1.204268</td>\n",
       "      <td>1.121073</td>\n",
       "      <td>0</td>\n",
       "      <td>0</td>\n",
       "      <td>0</td>\n",
       "      <td>1</td>\n",
       "      <td>0</td>\n",
       "      <td>...</td>\n",
       "      <td>0</td>\n",
       "      <td>0</td>\n",
       "      <td>0</td>\n",
       "      <td>0</td>\n",
       "      <td>0</td>\n",
       "      <td>0</td>\n",
       "      <td>0</td>\n",
       "      <td>0</td>\n",
       "      <td>0</td>\n",
       "      <td>0</td>\n",
       "    </tr>\n",
       "    <tr>\n",
       "      <th>3</th>\n",
       "      <td>-1.270448</td>\n",
       "      <td>0.806522</td>\n",
       "      <td>0.546765</td>\n",
       "      <td>1.512542</td>\n",
       "      <td>-0.553318</td>\n",
       "      <td>0</td>\n",
       "      <td>0</td>\n",
       "      <td>0</td>\n",
       "      <td>1</td>\n",
       "      <td>0</td>\n",
       "      <td>...</td>\n",
       "      <td>0</td>\n",
       "      <td>0</td>\n",
       "      <td>0</td>\n",
       "      <td>0</td>\n",
       "      <td>0</td>\n",
       "      <td>0</td>\n",
       "      <td>0</td>\n",
       "      <td>0</td>\n",
       "      <td>0</td>\n",
       "      <td>0</td>\n",
       "    </tr>\n",
       "    <tr>\n",
       "      <th>4</th>\n",
       "      <td>-1.270448</td>\n",
       "      <td>-0.906568</td>\n",
       "      <td>0.993562</td>\n",
       "      <td>0.383359</td>\n",
       "      <td>1.209199</td>\n",
       "      <td>0</td>\n",
       "      <td>0</td>\n",
       "      <td>1</td>\n",
       "      <td>0</td>\n",
       "      <td>0</td>\n",
       "      <td>...</td>\n",
       "      <td>0</td>\n",
       "      <td>0</td>\n",
       "      <td>0</td>\n",
       "      <td>0</td>\n",
       "      <td>0</td>\n",
       "      <td>1</td>\n",
       "      <td>0</td>\n",
       "      <td>0</td>\n",
       "      <td>0</td>\n",
       "      <td>0</td>\n",
       "    </tr>\n",
       "  </tbody>\n",
       "</table>\n",
       "<p>5 rows × 111 columns</p>\n",
       "</div>"
      ],
      "text/plain": [
       "        Age   Mileage     Price  WarrantyCost  price_ratio  IsOnlineSale  \\\n",
       "0 -0.099151 -1.375443 -0.167113     -0.333637    -0.641444             0   \n",
       "1 -0.099151  1.209000 -1.040398     -0.512020     0.768570             0   \n",
       "2 -0.684799 -0.032433  0.364368      1.204268     1.121073             0   \n",
       "3 -1.270448  0.806522  0.546765      1.512542    -0.553318             0   \n",
       "4 -1.270448 -0.906568  0.993562      0.383359     1.209199             0   \n",
       "\n",
       "   Class  Auction_Adesa  Auction_Manheim  Auction_Other  ...  State_OK  \\\n",
       "0      0              0                1              0  ...         0   \n",
       "1      0              1                0              0  ...         0   \n",
       "2      0              0                1              0  ...         0   \n",
       "3      0              0                1              0  ...         0   \n",
       "4      0              1                0              0  ...         0   \n",
       "\n",
       "   State_OR  State_PA  State_SC  State_TN  State_TX  State_UT  State_VA  \\\n",
       "0         0         0         0         0         0         0         0   \n",
       "1         0         0         0         0         1         0         0   \n",
       "2         0         0         0         0         0         0         0   \n",
       "3         0         0         0         0         0         0         0   \n",
       "4         0         0         0         0         1         0         0   \n",
       "\n",
       "   State_WA  State_WV  \n",
       "0         0         0  \n",
       "1         0         0  \n",
       "2         0         0  \n",
       "3         0         0  \n",
       "4         0         0  \n",
       "\n",
       "[5 rows x 111 columns]"
      ]
     },
     "execution_count": 2,
     "metadata": {},
     "output_type": "execute_result"
    }
   ],
   "source": [
    "car_kick=pd.read_csv('car_kick4.csv')\n",
    "car_kick.head()"
   ]
  },
  {
   "cell_type": "markdown",
   "id": "aa04bd8c",
   "metadata": {},
   "source": [
    "The first method that we'll use for our classification problem is Logistic Regression. We need to split our dataset into training and test sets first."
   ]
  },
  {
   "cell_type": "code",
   "execution_count": 3,
   "id": "47baa541",
   "metadata": {},
   "outputs": [],
   "source": [
    "X=car_kick.drop('Class', axis=1)\n",
    "y=car_kick['Class']\n",
    "\n",
    "X_train, X_test, y_train, y_test= train_test_split(X, y, test_size=0.25)"
   ]
  },
  {
   "cell_type": "code",
   "execution_count": 4,
   "id": "d8c690c1",
   "metadata": {},
   "outputs": [
    {
     "data": {
      "text/plain": [
       "0    0.90691\n",
       "1    0.09309\n",
       "Name: Class, dtype: float64"
      ]
     },
     "execution_count": 4,
     "metadata": {},
     "output_type": "execute_result"
    }
   ],
   "source": [
    "y_train.value_counts(normalize=True)"
   ]
  },
  {
   "cell_type": "code",
   "execution_count": 5,
   "id": "e1a835ca",
   "metadata": {},
   "outputs": [
    {
     "data": {
      "text/plain": [
       "0    0.904759\n",
       "1    0.095241\n",
       "Name: Class, dtype: float64"
      ]
     },
     "execution_count": 5,
     "metadata": {},
     "output_type": "execute_result"
    }
   ],
   "source": [
    "y_test.value_counts(normalize=True)"
   ]
  },
  {
   "cell_type": "markdown",
   "id": "61df45c1",
   "metadata": {},
   "source": [
    "As we can see in both training and test datas the distribution of target value is the same. Now let's create a Logistic Regression object with default parameters."
   ]
  },
  {
   "cell_type": "code",
   "execution_count": 6,
   "id": "0562b8fb",
   "metadata": {},
   "outputs": [
    {
     "name": "stdout",
     "output_type": "stream",
     "text": [
      "Series([], dtype: bool)\n"
     ]
    }
   ],
   "source": [
    "bol=X_train.isna().sum()>0\n",
    "print(bol[bol==True])"
   ]
  },
  {
   "cell_type": "code",
   "execution_count": 15,
   "id": "ddb6ca5c",
   "metadata": {},
   "outputs": [
    {
     "name": "stdout",
     "output_type": "stream",
     "text": [
      "The accuracy of the model on the training data is : 0.9069706657015904\n",
      "The accuracy of the model on the test data is : 0.9050003015863441\n",
      "The accuracy of the model on the test data is : 0.5015499472239814\n"
     ]
    }
   ],
   "source": [
    "lr=LogisticRegression(max_iter=500)\n",
    "lr.fit(X_train, y_train)\n",
    "y_pred=lr.predict(X_test)\n",
    "train_score=lr.score(X_train, y_train)\n",
    "test_score=lr.score(X_test, y_test)\n",
    "test_bscore=balanced_accuracy_score(y_test, y_pred)\n",
    "print(\"The accuracy of the model on the training data is : {}\".format(train_score))\n",
    "print(\"The accuracy of the model on the test data is : {}\".format(test_score))"
   ]
  },
  {
   "cell_type": "markdown",
   "id": "d1af7012",
   "metadata": {},
   "source": [
    "We have good accuracy result for both training and test datasets. But considering the fact that our dataset is higly imbalanced the accuracy is a poor metric to evaluate the model, so we'll create a confusion matrix for our model."
   ]
  },
  {
   "cell_type": "code",
   "execution_count": 8,
   "id": "23df3b03",
   "metadata": {
    "scrolled": true
   },
   "outputs": [
    {
     "data": {
      "image/png": "[encoded data removed]",
      "text/plain": [
       "<Figure size 432x288 with 2 Axes>"
      ]
     },
     "metadata": {
      "needs_background": "light"
     },
     "output_type": "display_data"
    }
   ],
   "source": [
    "cm=confusion_matrix(y_test, y_pred, labels = lr.classes_)\n",
    "\n",
    "display_cm = ConfusionMatrixDisplay(confusion_matrix = cm, display_labels = ['no car kick', 'car_kick'])\n",
    "display_cm.plot()\n",
    "plt.show()"
   ]
  },
  {
   "cell_type": "code",
   "execution_count": 16,
   "id": "ca6ccca7",
   "metadata": {},
   "outputs": [
    {
     "name": "stdout",
     "output_type": "stream",
     "text": [
      "The accuracy of the model on the test data is : 0.5015499472239814\n"
     ]
    }
   ],
   "source": [
    "print(\"The accuracy of the model on the test data is : {}\".format(test_bscore))"
   ]
  },
  {
   "cell_type": "markdown",
   "id": "ea294538",
   "metadata": {},
   "source": [
    "As we can see our model performs poorly on our test data, out of 1565 car kicks only 2 were predicted. On the EDA step of the project we saw that there were no significant linear relationship between the target variable and the features, however we'll try to tune our hyperparamters: we'll use the 'saga' algorithm for solver parameter (which works well on large datsets) with different C values."
   ]
  },
  {
   "cell_type": "code",
   "execution_count": 11,
   "id": "f8340fe9",
   "metadata": {},
   "outputs": [
    {
     "name": "stdout",
     "output_type": "stream",
     "text": [
      "best score on the train data 0.5004\n",
      "best score on the test data 0.5015\n"
     ]
    }
   ],
   "source": [
    "clf=LogisticRegression(max_iter = 2000, solver='saga')\n",
    "params={'C':[ 0.1, 1, 10]}\n",
    "gs_reg=GridSearchCV(clf, param_grid=params, scoring='balanced_accuracy', cv=5)\n",
    "gs_reg.fit(X_train, y_train)\n",
    "\n",
    "print('best score on the train data {}'.format(round(gs_reg.best_score_, 4)))\n",
    "\n",
    "gs_reg_test=gs_reg.score(X_test, y_test)\n",
    "print('best score on the test data {}'.format(round(gs_reg_test, 4)))"
   ]
  },
  {
   "cell_type": "markdown",
   "id": "f4ef7dcd",
   "metadata": {},
   "source": [
    "The model didn't approve at all after changing the parameters. Apparently, the logistic regression is not a good fit for our dataset.The next model that we'll use is Decision Trees with max depth of 5. For the decision trees we don't need to scale the data, so we'll use the unscaled data."
   ]
  },
  {
   "cell_type": "code",
   "execution_count": 52,
   "id": "61cfeaf2",
   "metadata": {
    "scrolled": true
   },
   "outputs": [
    {
     "data": {
      "text/html": [
       "<div>\n",
       "<style scoped>\n",
       "    .dataframe tbody tr th:only-of-type {\n",
       "        vertical-align: middle;\n",
       "    }\n",
       "\n",
       "    .dataframe tbody tr th {\n",
       "        vertical-align: top;\n",
       "    }\n",
       "\n",
       "    .dataframe thead th {\n",
       "        text-align: right;\n",
       "    }\n",
       "</style>\n",
       "<table border=\"1\" class=\"dataframe\">\n",
       "  <thead>\n",
       "    <tr style=\"text-align: right;\">\n",
       "      <th></th>\n",
       "      <th>Age</th>\n",
       "      <th>Mileage</th>\n",
       "      <th>Price</th>\n",
       "      <th>WarrantyCost</th>\n",
       "      <th>IsOnlineSale</th>\n",
       "      <th>Class</th>\n",
       "      <th>price_ratio</th>\n",
       "      <th>Auction_Adesa</th>\n",
       "      <th>Auction_Manheim</th>\n",
       "      <th>Auction_Other</th>\n",
       "      <th>...</th>\n",
       "      <th>State_OK</th>\n",
       "      <th>State_OR</th>\n",
       "      <th>State_PA</th>\n",
       "      <th>State_SC</th>\n",
       "      <th>State_TN</th>\n",
       "      <th>State_TX</th>\n",
       "      <th>State_UT</th>\n",
       "      <th>State_VA</th>\n",
       "      <th>State_WA</th>\n",
       "      <th>State_WV</th>\n",
       "    </tr>\n",
       "  </thead>\n",
       "  <tbody>\n",
       "    <tr>\n",
       "      <th>0</th>\n",
       "      <td>4</td>\n",
       "      <td>51954</td>\n",
       "      <td>7062.0</td>\n",
       "      <td>1086.0</td>\n",
       "      <td>0</td>\n",
       "      <td>0</td>\n",
       "      <td>0.68</td>\n",
       "      <td>0</td>\n",
       "      <td>1</td>\n",
       "      <td>0</td>\n",
       "      <td>...</td>\n",
       "      <td>0</td>\n",
       "      <td>0</td>\n",
       "      <td>0</td>\n",
       "      <td>0</td>\n",
       "      <td>0</td>\n",
       "      <td>0</td>\n",
       "      <td>0</td>\n",
       "      <td>0</td>\n",
       "      <td>0</td>\n",
       "      <td>0</td>\n",
       "    </tr>\n",
       "    <tr>\n",
       "      <th>1</th>\n",
       "      <td>4</td>\n",
       "      <td>89127</td>\n",
       "      <td>4783.0</td>\n",
       "      <td>983.0</td>\n",
       "      <td>0</td>\n",
       "      <td>0</td>\n",
       "      <td>0.84</td>\n",
       "      <td>1</td>\n",
       "      <td>0</td>\n",
       "      <td>0</td>\n",
       "      <td>...</td>\n",
       "      <td>0</td>\n",
       "      <td>0</td>\n",
       "      <td>0</td>\n",
       "      <td>0</td>\n",
       "      <td>0</td>\n",
       "      <td>1</td>\n",
       "      <td>0</td>\n",
       "      <td>0</td>\n",
       "      <td>0</td>\n",
       "      <td>0</td>\n",
       "    </tr>\n",
       "    <tr>\n",
       "      <th>2</th>\n",
       "      <td>3</td>\n",
       "      <td>71271</td>\n",
       "      <td>8449.0</td>\n",
       "      <td>1974.0</td>\n",
       "      <td>0</td>\n",
       "      <td>0</td>\n",
       "      <td>0.88</td>\n",
       "      <td>0</td>\n",
       "      <td>1</td>\n",
       "      <td>0</td>\n",
       "      <td>...</td>\n",
       "      <td>0</td>\n",
       "      <td>0</td>\n",
       "      <td>0</td>\n",
       "      <td>0</td>\n",
       "      <td>0</td>\n",
       "      <td>0</td>\n",
       "      <td>0</td>\n",
       "      <td>0</td>\n",
       "      <td>0</td>\n",
       "      <td>0</td>\n",
       "    </tr>\n",
       "    <tr>\n",
       "      <th>3</th>\n",
       "      <td>2</td>\n",
       "      <td>83338</td>\n",
       "      <td>8925.0</td>\n",
       "      <td>2152.0</td>\n",
       "      <td>0</td>\n",
       "      <td>0</td>\n",
       "      <td>0.69</td>\n",
       "      <td>0</td>\n",
       "      <td>1</td>\n",
       "      <td>0</td>\n",
       "      <td>...</td>\n",
       "      <td>0</td>\n",
       "      <td>0</td>\n",
       "      <td>0</td>\n",
       "      <td>0</td>\n",
       "      <td>0</td>\n",
       "      <td>0</td>\n",
       "      <td>0</td>\n",
       "      <td>0</td>\n",
       "      <td>0</td>\n",
       "      <td>0</td>\n",
       "    </tr>\n",
       "    <tr>\n",
       "      <th>4</th>\n",
       "      <td>2</td>\n",
       "      <td>58698</td>\n",
       "      <td>10091.0</td>\n",
       "      <td>1500.0</td>\n",
       "      <td>0</td>\n",
       "      <td>0</td>\n",
       "      <td>0.89</td>\n",
       "      <td>1</td>\n",
       "      <td>0</td>\n",
       "      <td>0</td>\n",
       "      <td>...</td>\n",
       "      <td>0</td>\n",
       "      <td>0</td>\n",
       "      <td>0</td>\n",
       "      <td>0</td>\n",
       "      <td>0</td>\n",
       "      <td>1</td>\n",
       "      <td>0</td>\n",
       "      <td>0</td>\n",
       "      <td>0</td>\n",
       "      <td>0</td>\n",
       "    </tr>\n",
       "  </tbody>\n",
       "</table>\n",
       "<p>5 rows × 111 columns</p>\n",
       "</div>"
      ],
      "text/plain": [
       "   Age  Mileage    Price  WarrantyCost  IsOnlineSale  Class  price_ratio  \\\n",
       "0    4    51954   7062.0        1086.0             0      0         0.68   \n",
       "1    4    89127   4783.0         983.0             0      0         0.84   \n",
       "2    3    71271   8449.0        1974.0             0      0         0.88   \n",
       "3    2    83338   8925.0        2152.0             0      0         0.69   \n",
       "4    2    58698  10091.0        1500.0             0      0         0.89   \n",
       "\n",
       "   Auction_Adesa  Auction_Manheim  Auction_Other  ...  State_OK  State_OR  \\\n",
       "0              0                1              0  ...         0         0   \n",
       "1              1                0              0  ...         0         0   \n",
       "2              0                1              0  ...         0         0   \n",
       "3              0                1              0  ...         0         0   \n",
       "4              1                0              0  ...         0         0   \n",
       "\n",
       "   State_PA  State_SC  State_TN  State_TX  State_UT  State_VA  State_WA  \\\n",
       "0         0         0         0         0         0         0         0   \n",
       "1         0         0         0         1         0         0         0   \n",
       "2         0         0         0         0         0         0         0   \n",
       "3         0         0         0         0         0         0         0   \n",
       "4         0         0         0         1         0         0         0   \n",
       "\n",
       "   State_WV  \n",
       "0         0  \n",
       "1         0  \n",
       "2         0  \n",
       "3         0  \n",
       "4         0  \n",
       "\n",
       "[5 rows x 111 columns]"
      ]
     },
     "execution_count": 52,
     "metadata": {},
     "output_type": "execute_result"
    }
   ],
   "source": [
    "df=pd.read_csv('car_kick5.csv')\n",
    "df.head()"
   ]
  },
  {
   "cell_type": "code",
   "execution_count": 53,
   "id": "f0129ef8",
   "metadata": {},
   "outputs": [],
   "source": [
    "X=df.drop('Class', axis=1)\n",
    "y=df['Class']\n",
    "\n",
    "X_train, X_test, y_train, y_test= train_test_split(X, y, test_size=0.25)"
   ]
  },
  {
   "cell_type": "code",
   "execution_count": 54,
   "id": "da8ef9fc",
   "metadata": {},
   "outputs": [
    {
     "name": "stdout",
     "output_type": "stream",
     "text": [
      "Accuracy: 0.9075857916917519\n",
      "Balanced accuracy: 0.5002925654031687\n",
      "Precision score 0.5\n",
      "Recall score 0.0006514657980456026\n"
     ]
    }
   ],
   "source": [
    "dtm = DecisionTreeClassifier(max_depth= 5)\n",
    "\n",
    "dtm.fit(X_train, y_train)\n",
    "y_pred=dtm.predict(X_test)\n",
    "y_pred=pd.Series(y_pred)\n",
    "\n",
    "\n",
    "print(\"Accuracy:\", metrics.accuracy_score(y_test,y_pred))\n",
    "print(\"Balanced accuracy:\", metrics.balanced_accuracy_score(y_test,y_pred))\n",
    "print('Precision score' , metrics.precision_score(y_test,y_pred))\n",
    "print('Recall score' , metrics.recall_score(y_test,y_pred))"
   ]
  },
  {
   "cell_type": "markdown",
   "id": "9d0c6330",
   "metadata": {},
   "source": [
    "The Decision tree Classifier also performs poorly on our data, however we can try to tune our hyperparameters: changing max depth and criterion for it."
   ]
  },
  {
   "cell_type": "code",
   "execution_count": 55,
   "id": "f1320db9",
   "metadata": {},
   "outputs": [
    {
     "name": "stdout",
     "output_type": "stream",
     "text": [
      "best score on the train data 0.5287\n",
      "params for the best score {'criterion': 'gini', 'max_depth': None}\n",
      "best score on the test data 0.525\n"
     ]
    }
   ],
   "source": [
    "dt=DecisionTreeClassifier()\n",
    "params={'max_depth': [10, 15, 25, 35, None], 'criterion':['gini', 'entropy']}\n",
    "\n",
    "gs_dt=GridSearchCV(dt, param_grid=params, scoring='balanced_accuracy', cv=5)\n",
    "gs_dt.fit(X_train, y_train)\n",
    "\n",
    "print('best score on the train data {}'.format(round(gs_dt.best_score_, 4)))\n",
    "print('params for the best score {}'.format(gs_dt.best_params_))\n",
    "gs_dt_test=gs_dt.score(X_test, y_test)\n",
    "print('best score on the test data {}'.format(round(gs_dt_test, 4)))"
   ]
  }
 ],
 "metadata": {
  "kernelspec": {
   "display_name": "Python 3 (ipykernel)",
   "language": "python",
   "name": "python3"
  },
  "language_info": {
   "codemirror_mode": {
    "name": "ipython",
    "version": 3
   },
   "file_extension": ".py",
   "mimetype": "text/x-python",
   "name": "python",
   "nbconvert_exporter": "python",
   "pygments_lexer": "ipython3",
   "version": "3.9.12"
  }
 },
 "nbformat": 4,
 "nbformat_minor": 5
}
